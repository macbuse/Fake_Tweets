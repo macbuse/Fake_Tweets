{
 "cells": [
  {
   "cell_type": "code",
   "execution_count": 348,
   "metadata": {
    "collapsed": true
   },
   "outputs": [],
   "source": [
    "import pandas as pd\n",
    "import re\n",
    "import numpy as np\n",
    "\n",
    "#OK so it's simple and not magic but it works\n",
    "hashtag_regex = re.compile(r'\\#(\\w*)')"
   ]
  },
  {
   "cell_type": "markdown",
   "metadata": {},
   "source": [
    "# Sources\n",
    "\n",
    "NBC News is publishing its database of more than 200,000 tweets that Twitter has tied to \"malicious activity\" from Russia-linked accounts during the 2016 U.S. presidential election.\n",
    "\n",
    "\n",
    "https://developers.slashdot.org/story/18/02/17/0038251/nbc-publishes-200000-tweets-tied-to-russian-trolls\n",
    "\n",
    "\n",
    "\n",
    "The original file has some junk in it which we have to delete before opening with Pandas :\n",
    "\n",
    "Tweets from confirmed Russian trolls, shows only username, timestamp (in UTC), tweet text, and number of times tweet was retweeted and favorited according to our data\",,,,,,,,,,,,,,,,,\n",
    "\n",
    "From NBC News' story: https://www.nbcnews.com/tech/social-media/now-available-more-200-000-deleted-russian-troll-tweets-n844731,,,,,,,,,,,,,,,,,\n",
    "\n",
    "\"If you publish using the data, please credit NBC News and include a link to this page. Send questions to ben.popken@nbcuni.com or twitter.com/bpopken.\",,,,,,,,,,,,,,,,,\n",
    "\n",
    "Twitter screenname,Date tweet sent,Tweet text,Times retweeted,Times favorited,,,,,,,,,,,,,\n",
    "\n",
    "ryanmaxwell_1,3/22/2016 18:31,#IslamKills Are you trying to say that there were no terrorist attacks in Europe before refugees were let in?,,,,,,,,,,,,,,,\n",
    "\n"
   ]
  },
  {
   "cell_type": "markdown",
   "metadata": {},
   "source": [
    "# Minimal cleanup of the CSV\n"
   ]
  },
  {
   "cell_type": "code",
   "execution_count": null,
   "metadata": {
    "collapsed": true
   },
   "outputs": [],
   "source": [
    "fp = file('streamlined_tweets.csv','r')\n",
    "print ''.join(fp.readlines()[:5])"
   ]
  },
  {
   "cell_type": "code",
   "execution_count": 86,
   "metadata": {
    "collapsed": true
   },
   "outputs": [],
   "source": [
    "fp = file('streamlined_tweets.csv','r')\n",
    "fe = file('fakenews_tweets.csv','w')\n",
    "\n",
    "with fe as piggy:\n",
    "    for L in fp.readlines()[3:]:\n",
    "        piggy.write(L)\n",
    "\n",
    "df = pd.read_csv('fakenews_tweets.csv')"
   ]
  },
  {
   "cell_type": "markdown",
   "metadata": {},
   "source": [
    "so the data now looks OK \n",
    "there are still a few NaNs in the **Tweet text**\n",
    "column but this isn't so important.\n",
    "\n",
    "I decided to rename the columns as it made following examples easier\n",
    "\n",
    "1. everything to lower case\n",
    "1. swap out spaces to underscores"
   ]
  },
  {
   "cell_type": "code",
   "execution_count": 429,
   "metadata": {},
   "outputs": [
    {
     "data": {
      "text/plain": [
       "'twitter_screenname date_tweet_sent tweet_text times_retweeted times_favorited Unnamed: 5 Unnamed: 6 Unnamed: 7 Unnamed: 8 Unnamed: 9 Unnamed: 10 Unnamed: 11 Unnamed: 12 Unnamed: 13 Unnamed: 14 Unnamed: 15 Unnamed: 16 Unnamed: 17 doy'"
      ]
     },
     "execution_count": 429,
     "metadata": {},
     "output_type": "execute_result"
    }
   ],
   "source": [
    "' '.join( list( df.columns.values)[:])"
   ]
  },
  {
   "cell_type": "code",
   "execution_count": 268,
   "metadata": {},
   "outputs": [
    {
     "data": {
      "text/plain": [
       "{'Date tweet sent': 'date_tweet_sent',\n",
       " 'Times favorited': 'times_favorited',\n",
       " 'Times retweeted': 'times_retweeted',\n",
       " 'Tweet text': 'tweet_text',\n",
       " 'Twitter screenname': 'twitter_screenname'}"
      ]
     },
     "execution_count": 268,
     "metadata": {},
     "output_type": "execute_result"
    }
   ],
   "source": [
    "rename_mapper = {}\n",
    "for x in df.columns.values[:5]:\n",
    "    rename_mapper[x] = x.lower().replace(' ','_')\n",
    "rename_mapper"
   ]
  },
  {
   "cell_type": "code",
   "execution_count": 287,
   "metadata": {},
   "outputs": [
    {
     "data": {
      "text/plain": [
       "array(['twitter_screenname', 'date_tweet_sent', 'tweet_text',\n",
       "       'times_retweeted', 'times_favorited'], dtype=object)"
      ]
     },
     "execution_count": 287,
     "metadata": {},
     "output_type": "execute_result"
    }
   ],
   "source": [
    "#Do an inplace as this is a fair chunk of data\n",
    "df.rename(index=str, \n",
    "          columns=rename_mapper,\n",
    "          copy=False,\n",
    "          inplace=True)\n",
    "df.columns.values[:5]"
   ]
  },
  {
   "cell_type": "markdown",
   "metadata": {},
   "source": [
    "so now we can just run a regex on the column "
   ]
  },
  {
   "cell_type": "code",
   "execution_count": 640,
   "metadata": {
    "collapsed": true
   },
   "outputs": [],
   "source": [
    "pokemon_regex = re.compile(r'pokemon', re.IGNORECASE)\n",
    "# for some reason the fancy indexer won't work with NaN \n",
    "# so we have to set a flag to False\n",
    "mask_pokemon = df.tweet_text.str.contains(pokemon_regex, na=False)"
   ]
  },
  {
   "cell_type": "code",
   "execution_count": 641,
   "metadata": {},
   "outputs": [
    {
     "data": {
      "text/html": [
       "<div>\n",
       "<style>\n",
       "    .dataframe thead tr:only-child th {\n",
       "        text-align: right;\n",
       "    }\n",
       "\n",
       "    .dataframe thead th {\n",
       "        text-align: left;\n",
       "    }\n",
       "\n",
       "    .dataframe tbody tr th {\n",
       "        vertical-align: top;\n",
       "    }\n",
       "</style>\n",
       "<table border=\"1\" class=\"dataframe\">\n",
       "  <thead>\n",
       "    <tr style=\"text-align: right;\">\n",
       "      <th></th>\n",
       "      <th>twitter_screenname</th>\n",
       "      <th>date_tweet_sent</th>\n",
       "      <th>tweet_text</th>\n",
       "      <th>times_retweeted</th>\n",
       "      <th>times_favorited</th>\n",
       "      <th>Unnamed: 5</th>\n",
       "      <th>Unnamed: 6</th>\n",
       "      <th>Unnamed: 7</th>\n",
       "      <th>Unnamed: 8</th>\n",
       "      <th>Unnamed: 9</th>\n",
       "      <th>Unnamed: 10</th>\n",
       "      <th>Unnamed: 11</th>\n",
       "      <th>Unnamed: 12</th>\n",
       "      <th>Unnamed: 13</th>\n",
       "      <th>Unnamed: 14</th>\n",
       "      <th>Unnamed: 15</th>\n",
       "      <th>Unnamed: 16</th>\n",
       "      <th>Unnamed: 17</th>\n",
       "      <th>doy</th>\n",
       "    </tr>\n",
       "  </thead>\n",
       "  <tbody>\n",
       "    <tr>\n",
       "      <th>401</th>\n",
       "      <td>queenofthewo</td>\n",
       "      <td>1/2/2017 15:00</td>\n",
       "      <td>#2017SurvivalTips never ever talk about Pokemo...</td>\n",
       "      <td>NaN</td>\n",
       "      <td>NaN</td>\n",
       "      <td>NaN</td>\n",
       "      <td>NaN</td>\n",
       "      <td>NaN</td>\n",
       "      <td>NaN</td>\n",
       "      <td>NaN</td>\n",
       "      <td>NaN</td>\n",
       "      <td>NaN</td>\n",
       "      <td>NaN</td>\n",
       "      <td>NaN</td>\n",
       "      <td>NaN</td>\n",
       "      <td>NaN</td>\n",
       "      <td>NaN</td>\n",
       "      <td>NaN</td>\n",
       "      <td>2</td>\n",
       "    </tr>\n",
       "    <tr>\n",
       "      <th>797</th>\n",
       "      <td>queenofthewo</td>\n",
       "      <td>7/30/2016 15:48</td>\n",
       "      <td>#IHatePokemonGoBecause it's the precursor to t...</td>\n",
       "      <td>NaN</td>\n",
       "      <td>NaN</td>\n",
       "      <td>NaN</td>\n",
       "      <td>NaN</td>\n",
       "      <td>NaN</td>\n",
       "      <td>NaN</td>\n",
       "      <td>NaN</td>\n",
       "      <td>NaN</td>\n",
       "      <td>NaN</td>\n",
       "      <td>NaN</td>\n",
       "      <td>NaN</td>\n",
       "      <td>NaN</td>\n",
       "      <td>NaN</td>\n",
       "      <td>NaN</td>\n",
       "      <td>NaN</td>\n",
       "      <td>212</td>\n",
       "    </tr>\n",
       "    <tr>\n",
       "      <th>1168</th>\n",
       "      <td>cassieweltch</td>\n",
       "      <td>7/27/2016 10:49</td>\n",
       "      <td>RT @davethedave_: #IProcrastinateBy creating s...</td>\n",
       "      <td>NaN</td>\n",
       "      <td>NaN</td>\n",
       "      <td>NaN</td>\n",
       "      <td>NaN</td>\n",
       "      <td>NaN</td>\n",
       "      <td>NaN</td>\n",
       "      <td>NaN</td>\n",
       "      <td>NaN</td>\n",
       "      <td>NaN</td>\n",
       "      <td>NaN</td>\n",
       "      <td>NaN</td>\n",
       "      <td>NaN</td>\n",
       "      <td>NaN</td>\n",
       "      <td>NaN</td>\n",
       "      <td>NaN</td>\n",
       "      <td>209</td>\n",
       "    </tr>\n",
       "    <tr>\n",
       "      <th>1691</th>\n",
       "      <td>mr_clampin</td>\n",
       "      <td>7/30/2016 15:23</td>\n",
       "      <td>RT @CoffeeNTrees: #IHatePokemonGoBecause It gi...</td>\n",
       "      <td>NaN</td>\n",
       "      <td>NaN</td>\n",
       "      <td>NaN</td>\n",
       "      <td>NaN</td>\n",
       "      <td>NaN</td>\n",
       "      <td>NaN</td>\n",
       "      <td>NaN</td>\n",
       "      <td>NaN</td>\n",
       "      <td>NaN</td>\n",
       "      <td>NaN</td>\n",
       "      <td>NaN</td>\n",
       "      <td>NaN</td>\n",
       "      <td>NaN</td>\n",
       "      <td>NaN</td>\n",
       "      <td>NaN</td>\n",
       "      <td>212</td>\n",
       "    </tr>\n",
       "    <tr>\n",
       "      <th>2209</th>\n",
       "      <td>melvinsroberts</td>\n",
       "      <td>7/30/2016 15:51</td>\n",
       "      <td>#IHatePokemonGoBecause it makes me look like a...</td>\n",
       "      <td>NaN</td>\n",
       "      <td>NaN</td>\n",
       "      <td>NaN</td>\n",
       "      <td>NaN</td>\n",
       "      <td>NaN</td>\n",
       "      <td>NaN</td>\n",
       "      <td>NaN</td>\n",
       "      <td>NaN</td>\n",
       "      <td>NaN</td>\n",
       "      <td>NaN</td>\n",
       "      <td>NaN</td>\n",
       "      <td>NaN</td>\n",
       "      <td>NaN</td>\n",
       "      <td>NaN</td>\n",
       "      <td>NaN</td>\n",
       "      <td>212</td>\n",
       "    </tr>\n",
       "  </tbody>\n",
       "</table>\n",
       "</div>"
      ],
      "text/plain": [
       "     twitter_screenname  date_tweet_sent  \\\n",
       "401        queenofthewo   1/2/2017 15:00   \n",
       "797        queenofthewo  7/30/2016 15:48   \n",
       "1168       cassieweltch  7/27/2016 10:49   \n",
       "1691         mr_clampin  7/30/2016 15:23   \n",
       "2209     melvinsroberts  7/30/2016 15:51   \n",
       "\n",
       "                                             tweet_text  times_retweeted  \\\n",
       "401   #2017SurvivalTips never ever talk about Pokemo...              NaN   \n",
       "797   #IHatePokemonGoBecause it's the precursor to t...              NaN   \n",
       "1168  RT @davethedave_: #IProcrastinateBy creating s...              NaN   \n",
       "1691  RT @CoffeeNTrees: #IHatePokemonGoBecause It gi...              NaN   \n",
       "2209  #IHatePokemonGoBecause it makes me look like a...              NaN   \n",
       "\n",
       "      times_favorited  Unnamed: 5  Unnamed: 6  Unnamed: 7  Unnamed: 8  \\\n",
       "401               NaN         NaN         NaN         NaN         NaN   \n",
       "797               NaN         NaN         NaN         NaN         NaN   \n",
       "1168              NaN         NaN         NaN         NaN         NaN   \n",
       "1691              NaN         NaN         NaN         NaN         NaN   \n",
       "2209              NaN         NaN         NaN         NaN         NaN   \n",
       "\n",
       "      Unnamed: 9  Unnamed: 10  Unnamed: 11  Unnamed: 12  Unnamed: 13  \\\n",
       "401          NaN          NaN          NaN          NaN          NaN   \n",
       "797          NaN          NaN          NaN          NaN          NaN   \n",
       "1168         NaN          NaN          NaN          NaN          NaN   \n",
       "1691         NaN          NaN          NaN          NaN          NaN   \n",
       "2209         NaN          NaN          NaN          NaN          NaN   \n",
       "\n",
       "      Unnamed: 14  Unnamed: 15  Unnamed: 16  Unnamed: 17  doy  \n",
       "401           NaN          NaN          NaN          NaN    2  \n",
       "797           NaN          NaN          NaN          NaN  212  \n",
       "1168          NaN          NaN          NaN          NaN  209  \n",
       "1691          NaN          NaN          NaN          NaN  212  \n",
       "2209          NaN          NaN          NaN          NaN  212  "
      ]
     },
     "execution_count": 641,
     "metadata": {},
     "output_type": "execute_result"
    }
   ],
   "source": [
    "df[mask_pokemon][:5]"
   ]
  },
  {
   "cell_type": "code",
   "execution_count": 642,
   "metadata": {},
   "outputs": [
    {
     "data": {
      "text/plain": [
       "[<matplotlib.lines.Line2D at 0x14b105590>]"
      ]
     },
     "execution_count": 642,
     "metadata": {},
     "output_type": "execute_result"
    },
    {
     "data": {
      "image/png": "[encoded data removed]",
      "text/plain": [
       "<matplotlib.figure.Figure at 0x149ef17d0>"
      ]
     },
     "metadata": {},
     "output_type": "display_data"
    }
   ],
   "source": [
    "pokemon_date_data  = collections.Counter(df[mask_pokemon].doy).items()\n",
    "pokemon_date_data.sort()\n",
    "XS,YS = zip(*pokemon_date_data)\n",
    "plt.plot(XS,YS)"
   ]
  },
  {
   "cell_type": "markdown",
   "metadata": {},
   "source": [
    "# Pokemon Go fans\n",
    "\n",
    "So let's take someone who has tweeted about Pokemon at random.\n",
    "She is apparently influential according to Twitter but I don't see why\n",
    "\n",
    "https://docs.google.com/spreadsheets/d/1pWrCg2L-TGNA6sJzZFjRWQdqOOJHKpArYnPho6j5p10/edit#gid=64548838"
   ]
  },
  {
   "cell_type": "code",
   "execution_count": 644,
   "metadata": {
    "collapsed": true
   },
   "outputs": [],
   "source": [
    "subject = df[ df.twitter_screenname == 'traceyhappymom']\n",
    "stuff = subject.tweet_text.values\n",
    "stuff = stuff.reshape((-1,))"
   ]
  },
  {
   "cell_type": "code",
   "execution_count": 682,
   "metadata": {},
   "outputs": [
    {
     "data": {
      "text/plain": [
       "' HillaryClinton ThingsInventedWhileHigh Upsideof2016 Olympics SometimesItsOkTo tweetjustyourvoice AxlRose IWishIHadTwo ThreeWordsAllMe wishfultrumpheadlines NEVERTRUMP UnlikelyWikiLeaks sundaybrunch UpsideOf2016 sorrynotsorry probabletrumpstwe WhenImDownI AndThatsHowIWentViral ImNotOpposedTo vegan FilmsFromIreland facebook AthleticsTVShows ILove__ButIHate__ 2016in4words mpy SNL Lifestage NerdHolidays Talking Playlist porn IHateRadio wrestling GrammarNazi humantrafficking BigBucksNoWhammies FunnyOrCoolStuffWhereILive depression SongMakesMeTearUp TheAffair IWantCreditFor MyBedroomIn3Words ThingsIWouldntThankYouFor ReunionTour MakeAHorrorFilmLessScary SaturdaySchmooze AddAMovieRuinAMovie RuinADinnerInOnePhrase dealbreakerin3words ItsMuchBetterTo MyOlympicSportWouldBe Metal ElectionFinalThoughts ThanksTrump TrumpsMexicoTripSayings BadNewYearsToasts KenBone Beypnce 4Words1Movie Queen MFRWorg Periscope TipsToSurviveAPowerOutage SaidNoOneEver donttalktome GuardiansOfTheGalaxyVol2 ActuallyAutistic ThingsNotT Rock songsgetdressed Health ProbableTrumpsT FF BetterNamesForTwitter InformTheElectors Mermaid mondaymot AOfestivefrolics OptOutside msnbc MusingsFromBarbiesDiary TweepAQuote reasonstogetdivorced MoneyMusic RetailBroadway SuicideSquad Mon SamsungGalaxyNote7 CatTV SummerAMovie American FashionSongs MrRobot NotACatfish WorstWayToSpendTheHolidays unlikelythingsheardatwalmart famouscreatures AllMaleReboots BigPapi HowToAv trump PottyRock LifeOfAMcDonaldsLid VulnerabilityIn5Words MakeABandCountry RepublicansFo MillennialSportsTeams KeepsTrumpUpAtNight Sweepstakes NHL ImWithHer 1 ChildrenThinkThat giftideasforpoliticians NewPreFightTrashT MakeABandApologize WCW ImAlwaysOkWith MakeMeHateYouInOnePhrase SACRELEGE DontBooVote MessUpAQuote HandymanLyrics MentalIllnessIcebreakers ff friendshipin5words IfIHadABodyDouble TrumpsMexicoTripSay IJustCalledToSay ThingsYouCanDoToAMooseOnTuesdayInCanada RulesForWomensMarch fishtv Hashtags WhatIWouldTellA15yearoldme ReasonsToGetDivorced AddFamilyRuinASong NewChangesAhead ShopSmall GiftIdeasForPoliticians VoteTrump HowToAvoidPoliticsAtDinner BirdTV UnlikelyThingsHeardAtWalmart ReasonsTogetDivorced Probab blocked RT WhoIs amjoy No WeTrumpHate MyFirstReaction 2017 Shameless ImRushingAround ItStartedWith MondayMorningMotivation SecondhandGifts OneWordOffMovieQuotes BobMarley thoughtbeforebed HillarysHealth skyboxchall HipsterSchoolSuppliesList solarpowereddogs ToDoLis iamthankfulfor WeedsIllegalBut MarthaAndSnoop ThingsILikeToStart redheadproblems IGetDepressedWhen ShapeMusic Christmasaftermath ImWithher MST3K dubchallenge IHaveARightToK IGiveHugsWhen AddStarWarsImproveAMovie eSportsAddiction ThingsISayPrettyOften LostIn3Words TVShowCarols MermaidMonday ihavearighttoknow Ghostbusters IDontThinkIWasMeantTo WhyIMustDance probabletrumpstweets DWTS BetterElfNames ProbableTrumpsTwee CarSongsOrBand CongressIn5Words Recount2016 HillYes ItsOnlyFunnyWhen AlternateUsesForSnow HazardousMusic newprefighttrashtalk AndThenIShouldHaveSaid NationalBoyfriendDay IdRunForPresidentIf MakeABandLazy IfIWereAFoodOrDrink MondayAShowOrSong IfYouLikeThisYoullLoveThat WhatIWantForChristmasIn4Words OddThingsToBeProudAbout TVShow postseason InternationalDayOfPeace MakeAFilmSmaller Transformers MentalI SurvivalG ImAlwaysForgetting TvShowFilmMashup tagtitles WednesdayWisdom Ashtead USANetwork ImLostWithout ThingsYouCantIgnore slasher DemsInPhi PoliticalFoods SandyHook IReallyLikeYouBut pennysnest meatfree HateToEatAndRun donaldtrump IAmChoosingLove buttfumble addsethimproveanything Crook MeanGirlsRule MustBeBanned Fridaythe13thPartVI GameShowHostPickUpLines WhateverYouDoDont IamThankfulFor sundaymorning WhatIWouldTellA15YearOldMe God ItsNotAWasteIf AddCartoonsToHistory 233LIVEchat spiceoflife TrumpsFavoriteHeadline AmericansLivesMatter ThingsThatShouldBeCensored TheMoreYouKnow catsongs Lifting Hillary2016 PhelpsFace trndnl AgentsofSHIELD OneLetterOffSports My2017Resolution mustbebanned Thi thriller Bernie WalkingDeadTheOlympics ICantBeUrFriendBecause MCM ruinadinnerinonephrase IAmThankfulFor MydMorningRadioShow MyBestFriendIsntAllowed BadVoicemails IHaveARightToKnow points YesItUsedToBeAMovieYounguns MCU AreYouAware munchamovie ZsaZsaGabor SurvivalGuideToTh TweetYourFurBaby IShouldGetAMedalFor AMJoy PenceScience debate MyDayInAGIF IgetDepressedWhen FunThingsIveDoneInChurch NeverTrump puppymonkeybaby My5WordHorrorNovel IWM thingsinventedwhilehigh MyRioOlympicPrediction WhenIGetReallyDesperate AddASongRuinAMovie songmakesmetearup MakeAFilmRemember ImTooOldFor ReasonsWhyINeedDrugs thetroublewithaddiction FatSideStories Thanksgiving MatrimonyIn3Words Fitness IfICouldntLie feelthebern fishtunas PerfectDessertAFilmOrShow ILikeToCollect SecondHandGifts ElectionFraud whatiwantforchristmasin4words todolistbeforechristmas FilmsAboutForgettingYourPants ReasonsIChoseYou thanks ThingsYouCantIgn DealBreakerIn3Words pokemongo TheTroubleWithAddiction CatsOfTwitter LIFESTYLECAFE dodgequestiondod IAmPowerful shapemusic YoMamaSoCanadian Joebama4lyfe YouMightBeACowardIf MyTermsAndConditions probable dogsoftwitter BBFinale Dunkirk TVLifeLessonsILearned My4WordNewYearsResolution pets FreddieMercury LSSC ThinkBIGSundayWithMarsha TheZone HowToSurviveTrumpsAmerica MyTrophySpouseIn3Words BLM lazymovies LastMinuteGifts2016 ImVotingBecause games DCEU sportcamera Spotify AuditTheVote Songsgetdressed OfficePartyDosAndDonts HurtAfilm Reject 2016In4Words BeRomanticIn4Words SongsHannibalWouldSing KenBoneFacts WhyILeftTheVault SpaceIn5Words OlympicTV Sext MakeSomeoneSmileBy DisruptionSWT ItsUnacceptableTo GoVegan giutarsongs NewPreFightTrashTalk hurtafilm hashtag ToDoListBeforeChristmas RejectedFallDrinks InsectShowsOrMovies And WorstPainEverIn3Words summeramovie SometimesTwitterMakesMe VertigoGranFinal 4523 worstwaytospendtheholidays HowIGotBanned EverybodyLovesKesha SirandRumi TrumpLeaks WeirdThingsToBuyOnline ProbableTrumps BetterAlternativeToDebates IfTheMediaRiggedTheElection GNR ElectionDayIn5Words ahs6 FlipThatWasAnEasyOne MeanGirlsRules ThingsToDoInAWaitingRoom FishTV secondhandgifts ThereIsMoreThanOne AlternativeAcronymInterpretations My3WordDreamJob DebbieDownerASongOrMovie dafuq GetAMovieDancing POTUS InsultingMovies WhyImGangsta notcool milkproductsongs SSNHQ BathroomSchmovies DontTellAnyoneBut ICelebrateTrumpWith sweetdreams maketvsexy SomedayIdLikeToSee RockbottomIn3Words HowToConfuseA WorseCartoonCharacters IGetALittleWeirdAbout PizzaGate IfCelebsBoughtABusiness 2016WasTheYearThatIFinally ZooACeleb squadgoals MoustacheABand MillenialSoapOperas IsQuiteAChallenge MyNewCatchphraseIs IMedicate Cocaine ChristmasIn3Words BlewUpLikeCeeLosPhone souther HighSchoolTaughtMe SextingWentWrongWhen HowIGotCaught Comedy FreezerDig OtherWaysToSayHello WhenImSotallyTober NoYoureJustBeingAnnoyingAF IdBeMoreOptimisticIF GoPro AlternativeAcronymInterpretatio Coin Fishtv VideoGameABand weedtv ToAvoidWorkI RejectedDebateTopics WhenTheWindBlowsI RelationshipGoals WouldHaveABetterDay MusingsFromBarbiesD ThingsNotTaughtAtSchool MakeATVShowParanoid Surviv RulesForEverydayLiving ImAlwaysSoJealousOf BeUnclassyIn4Words refugees WaystoImprovetheOlympics WhenIMetMyTweepIn7Words ToFeelBetterI ChristmasAHorrorMovie vss FakeMusicalTheaterFacts BATB PreciateItPimp twitter MakemeHateYouinOnePhrase MarkMyWords probabletrumps newsletter MyNewCatchPhraseIs RichMovies TrumpTard IHatePokemonGoBecause LMAO ChristmasAftermath AMC TwitterACritter Leo ExitPollGate SetYourselfApartIn5Words cnn 2016ElectionIn3Words LBCLIVE IfMyFriendsSawMeNow BadRejections FreeJulian SexyHorror VideoGameCelebs ProtectACelebFrom2016 WhatYouDoNotKnowAboutCanada SNRTG RedSox mondaymotivation beromanticin4words BadRainyDayActivities SurvivalGuideToThanksgiving MakeTVShowsCanadian rythmzlive TVSeries MakeMusicReligious AddaMovieRuinaMovie MyEmmyNominationWouldBe Pokemon TheOlderWeGet AndThat ImWitHer garb HaltandCatchFire ImQualified TalkLikeAPirateDay makemusicreligious WhenImBoredI WeedTV DECEMBERISLIVE MakeMeHate IfIWonTheElection 3WordBuzzkill ProbableTrumpsTweets TalladegaNights YesYouveProbablyHeardThatBefore AthleticsTVshows MakeTVSexy CancelPlansIn5Words SantaHasABadFeelingAbout MyWeirdPhobia DNC FamishAFilm badhombres MINE thingshillarygoogles ItWasLoveAtFirst ThingsMoreTrustedThanHillary ReasonsHumansWillGoExtinct ThingsThatComeFromCali podcast MakeABookWarm IStartCryingWhen ChangeAVowelChangeAFilm ThingsHillaryGoogles TheSimpsons600 FamousCreatures MuralsDC RockBottomIn3Words TCPersonalAds IAlmostHadADreamAbout Tr HowIdMakeTwitterFunAgain AndThatsHowIWe StrongerTogether tweetyouraccent OneWordOffSongs education NewPhobias ThingsYoucantIgnore ToDoListBef WhyILoveYouIn5Words AndThatsHowI ne THEOLOGY 5 My2017BiggestHope WhatIHateIn5Words MondayMorningsAre ThingsIFindCozy WeThePeople XJapan ThingsPeopleOnTwitterLike HillarysBodyDouble Baltimore inspiration OddTh musingsfrombarbiesdiary OccupyDNC HowIdLoseAnEye MyFamilyTalent FriendshipIn5Words Empire Chinavasion'"
      ]
     },
     "execution_count": 682,
     "metadata": {},
     "output_type": "execute_result"
    }
   ],
   "source": [
    "unique = list(set(hashtag_regex.findall(' '.join(stuff))))\n",
    "' '.join(unique)"
   ]
  },
  {
   "cell_type": "code",
   "execution_count": 371,
   "metadata": {
    "collapsed": true
   },
   "outputs": [],
   "source": [
    "def indexer2tweet_txt(indexer):\n",
    "    return '\\n'.join(indexer.tweet_text.values.reshape((-1,)) )"
   ]
  },
  {
   "cell_type": "code",
   "execution_count": 681,
   "metadata": {},
   "outputs": [
    {
     "name": "stdout",
     "output_type": "stream",
     "text": [
      "RT @JohnFPLane: Just spoke to Putin. Fantastic, great guy. Knows a great deal when he sees it. Sold him the White House! #probabletrumpstwe…\n",
      "RT @DoompaAlioompa: #ProbableTrumpsTweets\r\n",
      "I'll be Putin on the Ritz if you don't text back\n",
      "RT @Born_To_DYE: #TrumpsFavoriteHeadline Putin admits: 'Trump is my hero.'\n",
      "RT @WhiteCollarCMDY: #ProbableTrumpsTweets\r\n",
      "Invites go out to Putin, Jong-un, Khomeini, Duterte and Mugabe--poker at my house, winner gets t…\n"
     ]
    }
   ],
   "source": [
    "trump_regex = re.compile('trump',re.IGNORECASE)\n",
    "putin_regex = re.compile('putin',re.IGNORECASE)\n",
    "hilary_regex = re.compile('hillary',re.IGNORECASE)\n",
    "sanders_regex = re.compile('sanders',re.IGNORECASE)\n",
    "\n",
    "cp = putin_regex\n",
    "#cp = hilary_regex\n",
    "mask = subject.tweet_text.str.contains(cp,na=False)\n",
    "print indexer2tweet_txt(subject[mask])"
   ]
  },
  {
   "cell_type": "code",
   "execution_count": 684,
   "metadata": {},
   "outputs": [
    {
     "name": "stdout",
     "output_type": "stream",
     "text": [
      "RT @theolcaper: #ProbableTrumpsTweets I'm not only a client I'm the U.S. President\n",
      "RT @scottwilks: #ProbableTrumpsTweets\r\n",
      "\r\n",
      "Elections are all RIGGED! Unless I win with less votes than my opponent!\n",
      "RT \n"
     ]
    }
   ],
   "source": [
    "mask = df.tweet_text.str.contains('#ProbableTrumpsTweets', na=False)\n",
    "print indexer2tweet_txt(df[mask])[:200]"
   ]
  },
  {
   "cell_type": "code",
   "execution_count": 691,
   "metadata": {},
   "outputs": [
    {
     "data": {
      "image/png": "[encoded data removed]",
      "text/plain": [
       "<matplotlib.figure.Figure at 0x14b5c7b90>"
      ]
     },
     "metadata": {},
     "output_type": "display_data"
    }
   ],
   "source": [
    "for kk in [subject.doy, subject[~mask].doy]:\n",
    "    pp = collections.Counter(kk).items()\n",
    "    pp.sort()\n",
    "    XS,YS = zip(*pp)\n",
    "    plt.plot(XS,YS)"
   ]
  },
  {
   "cell_type": "code",
   "execution_count": 692,
   "metadata": {},
   "outputs": [],
   "source": [
    "mask = subject.tweet_text.str.startswith('RT ')\n",
    "#print '\\n'.join(subject[~mask].tweet_text.values)\n"
   ]
  },
  {
   "cell_type": "code",
   "execution_count": 708,
   "metadata": {},
   "outputs": [
    {
     "data": {
      "text/html": [
       "<div>\n",
       "<style>\n",
       "    .dataframe thead tr:only-child th {\n",
       "        text-align: right;\n",
       "    }\n",
       "\n",
       "    .dataframe thead th {\n",
       "        text-align: left;\n",
       "    }\n",
       "\n",
       "    .dataframe tbody tr th {\n",
       "        vertical-align: top;\n",
       "    }\n",
       "</style>\n",
       "<table border=\"1\" class=\"dataframe\">\n",
       "  <thead>\n",
       "    <tr style=\"text-align: right;\">\n",
       "      <th></th>\n",
       "      <th>twitter_screenname</th>\n",
       "      <th>date_tweet_sent</th>\n",
       "      <th>tweet_text</th>\n",
       "      <th>times_retweeted</th>\n",
       "      <th>times_favorited</th>\n",
       "      <th>Unnamed: 5</th>\n",
       "      <th>Unnamed: 6</th>\n",
       "      <th>Unnamed: 7</th>\n",
       "      <th>Unnamed: 8</th>\n",
       "      <th>Unnamed: 9</th>\n",
       "      <th>Unnamed: 10</th>\n",
       "      <th>Unnamed: 11</th>\n",
       "      <th>Unnamed: 12</th>\n",
       "      <th>Unnamed: 13</th>\n",
       "      <th>Unnamed: 14</th>\n",
       "      <th>Unnamed: 15</th>\n",
       "      <th>Unnamed: 16</th>\n",
       "      <th>Unnamed: 17</th>\n",
       "      <th>doy</th>\n",
       "    </tr>\n",
       "  </thead>\n",
       "  <tbody>\n",
       "    <tr>\n",
       "      <th>94411</th>\n",
       "      <td>traceyhappymom</td>\n",
       "      <td>10/10/2016 15:35</td>\n",
       "      <td>#BetterAlternativeToDebates If Trump and Hilla...</td>\n",
       "      <td>3.0</td>\n",
       "      <td>6.0</td>\n",
       "      <td>NaN</td>\n",
       "      <td>NaN</td>\n",
       "      <td>NaN</td>\n",
       "      <td>NaN</td>\n",
       "      <td>NaN</td>\n",
       "      <td>NaN</td>\n",
       "      <td>NaN</td>\n",
       "      <td>NaN</td>\n",
       "      <td>NaN</td>\n",
       "      <td>NaN</td>\n",
       "      <td>NaN</td>\n",
       "      <td>NaN</td>\n",
       "      <td>NaN</td>\n",
       "      <td>284</td>\n",
       "    </tr>\n",
       "    <tr>\n",
       "      <th>167525</th>\n",
       "      <td>traceyhappymom</td>\n",
       "      <td>11/7/2016 15:53</td>\n",
       "      <td>#2016ElectionIn3Words  Everybody vs. Trump</td>\n",
       "      <td>1.0</td>\n",
       "      <td>0.0</td>\n",
       "      <td>NaN</td>\n",
       "      <td>NaN</td>\n",
       "      <td>NaN</td>\n",
       "      <td>NaN</td>\n",
       "      <td>NaN</td>\n",
       "      <td>NaN</td>\n",
       "      <td>NaN</td>\n",
       "      <td>NaN</td>\n",
       "      <td>NaN</td>\n",
       "      <td>NaN</td>\n",
       "      <td>NaN</td>\n",
       "      <td>NaN</td>\n",
       "      <td>NaN</td>\n",
       "      <td>312</td>\n",
       "    </tr>\n",
       "  </tbody>\n",
       "</table>\n",
       "</div>"
      ],
      "text/plain": [
       "       twitter_screenname   date_tweet_sent  \\\n",
       "94411      traceyhappymom  10/10/2016 15:35   \n",
       "167525     traceyhappymom   11/7/2016 15:53   \n",
       "\n",
       "                                               tweet_text  times_retweeted  \\\n",
       "94411   #BetterAlternativeToDebates If Trump and Hilla...              3.0   \n",
       "167525         #2016ElectionIn3Words  Everybody vs. Trump              1.0   \n",
       "\n",
       "        times_favorited  Unnamed: 5  Unnamed: 6  Unnamed: 7  Unnamed: 8  \\\n",
       "94411               6.0         NaN         NaN         NaN         NaN   \n",
       "167525              0.0         NaN         NaN         NaN         NaN   \n",
       "\n",
       "        Unnamed: 9  Unnamed: 10  Unnamed: 11  Unnamed: 12  Unnamed: 13  \\\n",
       "94411          NaN          NaN          NaN          NaN          NaN   \n",
       "167525         NaN          NaN          NaN          NaN          NaN   \n",
       "\n",
       "        Unnamed: 14  Unnamed: 15  Unnamed: 16  Unnamed: 17  doy  \n",
       "94411           NaN          NaN          NaN          NaN  284  \n",
       "167525          NaN          NaN          NaN          NaN  312  "
      ]
     },
     "execution_count": 708,
     "metadata": {},
     "output_type": "execute_result"
    }
   ],
   "source": [
    "subject[(subject.times_retweeted.notnull()) & (subject.times_retweeted >0)]"
   ]
  },
  {
   "cell_type": "markdown",
   "metadata": {},
   "source": [
    "# Rough Analysis\n",
    "\n",
    "This is just screwing around to see what is in the file.\n",
    "\n",
    "### Todo\n",
    "\n",
    "I should really feed this through an **NLP** pipeline."
   ]
  },
  {
   "cell_type": "code",
   "execution_count": 311,
   "metadata": {
    "collapsed": true
   },
   "outputs": [],
   "source": [
    "AA = df.twitter_screenname.values\n",
    "BB = df.tweet_text.values"
   ]
  },
  {
   "cell_type": "code",
   "execution_count": 58,
   "metadata": {
    "collapsed": true
   },
   "outputs": [],
   "source": [
    "names = set( AA.reshape((-1,)))"
   ]
  },
  {
   "cell_type": "code",
   "execution_count": 63,
   "metadata": {
    "collapsed": true
   },
   "outputs": [],
   "source": [
    "txts =  list(BB.reshape((-1,)))"
   ]
  },
  {
   "cell_type": "code",
   "execution_count": 72,
   "metadata": {
    "collapsed": true
   },
   "outputs": [],
   "source": [
    "txts = [x.replace('\\n',' ') + '\\n' for x in txts if type(x) == str]"
   ]
  },
  {
   "cell_type": "markdown",
   "metadata": {},
   "source": [
    "so here there are a load of texts about Pokemon.\n",
    "\n",
    "- What does this prove? \n",
    "- Why didn't they clean the data?\n",
    "- Do those pesky Russians spies want to prove they are real people?"
   ]
  },
  {
   "cell_type": "code",
   "execution_count": 92,
   "metadata": {},
   "outputs": [
    {
     "data": {
      "text/plain": [
       "181"
      ]
     },
     "execution_count": 92,
     "metadata": {},
     "output_type": "execute_result"
    }
   ],
   "source": [
    "pokemon = [x for x in txts if 'pokemon' in x.lower()]\n",
    "len(pokemon)"
   ]
  },
  {
   "cell_type": "markdown",
   "metadata": {},
   "source": [
    "# Add day of the year (doy) column \n",
    "\n",
    "we want to plot frequencies of tweets"
   ]
  },
  {
   "cell_type": "code",
   "execution_count": 379,
   "metadata": {},
   "outputs": [
    {
     "data": {
      "text/plain": [
       "array(['7/15/2016 17:36', '5/28/2016 13:43', '10/16/2016 13:08',\n",
       "       '4/7/2016 12:08', '11/24/2016 13:52', '11/1/2016 12:13',\n",
       "       '6/18/2015 1:04', '1/10/2017 18:50', '11/20/2016 21:49',\n",
       "       '12/19/2016 23:00'], dtype=object)"
      ]
     },
     "execution_count": 379,
     "metadata": {},
     "output_type": "execute_result"
    }
   ],
   "source": [
    "df.date_tweet_sent[-10:].values"
   ]
  },
  {
   "cell_type": "code",
   "execution_count": 397,
   "metadata": {
    "collapsed": true
   },
   "outputs": [],
   "source": [
    "\n",
    "def date_to_nth_day(date, format='%m/%d/%Y'):\n",
    "    date = pd.to_datetime(date, format=format)\n",
    "    new_year_day = pd.Timestamp(year=date.year, month=1, day=1)\n",
    "    return (date - new_year_day).days + 1\n",
    "\n",
    "def doy(x):\n",
    "    if isinstance(x,str):\n",
    "        return date_to_nth_day(x.split()[0])\n",
    "    else:\n",
    "        #return a default fake value out of the normal range\n",
    "        return -1\n",
    "    \n",
    "dates = [doy(x) for x in  df.date_tweet_sent[:].values]"
   ]
  },
  {
   "cell_type": "markdown",
   "metadata": {},
   "source": [
    "add these as they will be useful for plotting later"
   ]
  },
  {
   "cell_type": "code",
   "execution_count": 440,
   "metadata": {},
   "outputs": [
    {
     "data": {
      "text/plain": [
       "0     82\n",
       "1    284\n",
       "2     53\n",
       "Name: doy, dtype: int64"
      ]
     },
     "execution_count": 440,
     "metadata": {},
     "output_type": "execute_result"
    }
   ],
   "source": [
    "df.loc[:,'doy'] = pd.Series(dates, index=df.index)"
   ]
  },
  {
   "cell_type": "markdown",
   "metadata": {},
   "source": [
    "# Analysis of frequencies\n",
    "\n",
    "This is just simple \"traffic\" analysis..\n",
    "\n"
   ]
  },
  {
   "cell_type": "code",
   "execution_count": 468,
   "metadata": {
    "collapsed": true
   },
   "outputs": [],
   "source": [
    "import matplotlib.pyplot as plt\n",
    "%matplotlib inline\n",
    "\n",
    "import collections\n",
    "date_data  = collections.Counter(dates)"
   ]
  },
  {
   "cell_type": "code",
   "execution_count": 470,
   "metadata": {},
   "outputs": [
    {
     "data": {
      "text/plain": [
       "[<matplotlib.lines.Line2D at 0x1240a7310>]"
      ]
     },
     "execution_count": 470,
     "metadata": {},
     "output_type": "execute_result"
    },
    {
     "data": {
      "image/png": "[encoded data removed]",
      "text/plain": [
       "<matplotlib.figure.Figure at 0x11ea5ec10>"
      ]
     },
     "metadata": {},
     "output_type": "display_data"
    }
   ],
   "source": [
    "XS,YS = zip(*date_data.items())\n",
    "plt.plot(XS,YS)"
   ]
  },
  {
   "cell_type": "code",
   "execution_count": 489,
   "metadata": {
    "collapsed": true
   },
   "outputs": [],
   "source": [
    "mask = df.tweet_text.str.contains(trump_regex, na=False) \n",
    "#careful returns a dictionnary\n",
    "date_data  = collections.Counter(df[mask].doy).items()"
   ]
  },
  {
   "cell_type": "code",
   "execution_count": 597,
   "metadata": {
    "collapsed": true
   },
   "outputs": [],
   "source": [
    "date_data.sort(key = lambda x: -x[1])"
   ]
  },
  {
   "cell_type": "markdown",
   "metadata": {},
   "source": [
    "So let's look at the **top 10** days for traffic.\n",
    "\n",
    "There is aperiod of 4 days of intense activity 260-263.\n",
    "\n",
    "The election was held on November 8, 2016 = 313\n",
    "\n",
    "There were debates on the following days :\n",
    "\n",
    "- P1\tSeptember 26, 2016\t9 p.m. \n",
    "- VP\tOctober 4, 2016\t9 p.m. \n",
    "- P2\tOctober 9, 2016\t8 p.m. CDT\t\n",
    "- P3\tOctober 19, 2016\t6 p.m. PDT\t\n",
    "- P4\tOctober 25, 2016\t7 p.m. MDT\t\n",
    "\n",
    "\n",
    "SOURCE : https://en.wikipedia.org/wiki/United_States_presidential_election,_2016#Primary_election_debates\n"
   ]
  },
  {
   "cell_type": "code",
   "execution_count": 599,
   "metadata": {},
   "outputs": [
    {
     "name": "stdout",
     "output_type": "stream",
     "text": [
      "1472 2016-11-08 313\n",
      "1435 2016-09-17 261\n",
      "1291 2016-10-06 280\n",
      "987 2016-09-18 262\n",
      "956 2016-09-16 260\n",
      "944 2016-09-19 263\n",
      "826 2016-10-07 281\n",
      "713 2016-11-09 314\n",
      "545 2016-09-29 273\n",
      "519 2016-09-23 267\n"
     ]
    }
   ],
   "source": [
    "for x,y in date_data[:10]:\n",
    "    print y, str(pd.to_datetime(2016 * 1000 + x, format='%Y%j')).split()[0], x\n"
   ]
  },
  {
   "cell_type": "code",
   "execution_count": 486,
   "metadata": {},
   "outputs": [
    {
     "data": {
      "image/png": "[encoded data removed]",
      "text/plain": [
       "<matplotlib.figure.Figure at 0x12a5560d0>"
      ]
     },
     "metadata": {},
     "output_type": "display_data"
    }
   ],
   "source": [
    "styles = ['r','b','g']\n",
    "obama_regex = re.compile('obama',re.IGNORECASE)\n",
    "for cp in [obama_regex, hilary_regex, trump_regex]:\n",
    "    mask = df.tweet_text.str.contains(cp, na=False)\n",
    "    date_data  = collections.Counter(df[mask].doy)\n",
    "    XS,YS = zip(*date_data.items())\n",
    "    plt.plot(XS,YS, styles.pop())"
   ]
  },
  {
   "cell_type": "markdown",
   "metadata": {},
   "source": [
    "## Extracting Tweets for a day\n",
    "\n",
    "And here is how to extract what was said about Trump or whoever on a \n",
    "particular day of the year = doy"
   ]
  },
  {
   "cell_type": "code",
   "execution_count": 603,
   "metadata": {},
   "outputs": [
    {
     "name": "stdout",
     "output_type": "stream",
     "text": [
      "RT @Darren32895836: After Hillary Clinton Caught 4attempting 2take advantage of Americans hardships &amp;tears changes Strat #PrayForFlorida ht…\n",
      "RT @gerfingerpoken: Did IRS Leak Trump Returns 2 Help Hillary? https://t.co/EWkqWLPAQN American Thinker https://t.co/L7h6rlr1le  https://t.…\n",
      "RT @sweetatertot2: DNC leaked emails show Hillary Camp's plans to meet with Megyn Kelly Team to discuss \"future hits\" on Trump? Sick! https…\n",
      "RT @MathewSHarrison: .@HillaryClinton's top aide &amp; #MuslimBrotherhood operative Huma Abedin hates Jews- didn't see that coming..\n",
      "https://t.…\n",
      "Foke Prankster reporter horrifies New Yorkers by announcing Hillary Clinton has ZIKA https://t.co/vlLroBVwCQ #Foke\n",
      "I can't stop 😂😂\n",
      "\n",
      "Just watch this \"high energy\" Hillary's rally! \n",
      "\n",
      "Explain me how can the polls be favorable to her?… https://t.co/bUpNaTKGgQ\n",
      "RT @Houseman75: I'm a Coal Miner from Indiana. I don't need New Doubts about Hillary. I already have plenty. #TrumpPence16\n",
      "RT @phillyrich1: TIM KAINE SHOC\n"
     ]
    }
   ],
   "source": [
    "print '\\n'.join( df[( df.doy == 280) & (df.tweet_text.str.contains(hilary_regex)) ].tweet_text.values)[:1000]"
   ]
  },
  {
   "cell_type": "markdown",
   "metadata": {},
   "source": [
    "## Who tweeted the most over the period 260-264"
   ]
  },
  {
   "cell_type": "code",
   "execution_count": 519,
   "metadata": {
    "collapsed": true
   },
   "outputs": [],
   "source": [
    "mask =  (df.doy > 259) & (df.doy <264)\n",
    "chunk = df[mask]"
   ]
  },
  {
   "cell_type": "code",
   "execution_count": 526,
   "metadata": {
    "collapsed": true
   },
   "outputs": [],
   "source": [
    "tweet_freqs = collections.Counter(chunk.twitter_screenname.values).items()\n",
    "tweet_freqs.sort( key=lambda x:-x[1])"
   ]
  },
  {
   "cell_type": "code",
   "execution_count": 531,
   "metadata": {},
   "outputs": [
    {
     "data": {
      "text/plain": [
       "[('ameliebaldwin', 2176),\n",
       " ('hyddrox', 1464),\n",
       " ('rh0lbr00k', 1133),\n",
       " ('kateritterrrr', 734),\n",
       " ('finley1589', 512),\n",
       " ('dorothiebell', 500),\n",
       " ('cassishere', 298),\n",
       " ('jacquelinisbest', 267),\n",
       " ('wadeharriot', 249),\n",
       " ('karenparker93', 246),\n",
       " ('hollydler', 199),\n",
       " ('cynthiamhunter', 199),\n",
       " ('prettylaraplace', 189),\n",
       " ('_nickluna_', 182),\n",
       " ('ten_gop', 139),\n",
       " ('patriotblake', 111),\n",
       " ('garrettsimpson_', 85),\n",
       " ('cookncooks', 73),\n",
       " ('pamela_moore13', 60),\n",
       " ('usa_gunslinger', 55)]"
      ]
     },
     "execution_count": 531,
     "metadata": {},
     "output_type": "execute_result"
    }
   ],
   "source": [
    "tweet_freqs[:20]"
   ]
  },
  {
   "cell_type": "markdown",
   "metadata": {},
   "source": [
    "Does it look like a Zipf ?\n",
    "\n",
    "https://en.wikipedia.org/wiki/Zipf%27s_law"
   ]
  },
  {
   "cell_type": "code",
   "execution_count": 546,
   "metadata": {},
   "outputs": [
    {
     "data": {
      "text/plain": [
       "[<matplotlib.lines.Line2D at 0x13c79e4d0>]"
      ]
     },
     "execution_count": 546,
     "metadata": {},
     "output_type": "execute_result"
    },
    {
     "data": {
      "image/png": "[encoded data removed]",
      "text/plain": [
       "<matplotlib.figure.Figure at 0x1492a2810>"
      ]
     },
     "metadata": {},
     "output_type": "display_data"
    }
   ],
   "source": [
    "names,YS = zip(*tweet_freqs[:20])\n",
    "plt.plot(YS)\n",
    "#comparison curve\n",
    "TS = np.linspace(0,20,20)\n",
    "plt.plot(TS,2176/(TS + 1) )"
   ]
  },
  {
   "cell_type": "code",
   "execution_count": 744,
   "metadata": {
    "collapsed": true
   },
   "outputs": [],
   "source": [
    "#can slice this to get top5 etc\n",
    "top10 = [df[df.twitter_screenname == x[0]] for x in tweet_freqs[:10]]\n",
    "\n",
    "#reference these for later\n",
    "number1 = top10[0]\n",
    "number2 = top10[1]"
   ]
  },
  {
   "cell_type": "code",
   "execution_count": 674,
   "metadata": {},
   "outputs": [
    {
     "data": {
      "image/png": "[encoded data removed]",
      "text/plain": [
       "<matplotlib.figure.Figure at 0x14b796a90>"
      ]
     },
     "metadata": {},
     "output_type": "display_data"
    }
   ],
   "source": [
    "for X in top10[:2]:\n",
    "    XS,YS = zip(*collections.Counter(X.doy.values).items())\n",
    "    plt.plot(XS,YS)"
   ]
  },
  {
   "cell_type": "code",
   "execution_count": 676,
   "metadata": {},
   "outputs": [
    {
     "name": "stdout",
     "output_type": "stream",
     "text": [
      "RT @K1erry: The Marco Rubio knockdown of Elizabeth Warren no liberal media outlet will cover https://t.co/Rh391fEXe3\n",
      "RT @TrumpSuperPAC: Obama's a Muslim &amp; this video from @FoxNews proves it! Even @CNN admits Obama's training protesters/jihadists! #MAGA htt…\n",
      "RT @schotziejlk: .@greta Who is your #SuperBowl favorite?\n",
      "RT @jefe_viejo: Dem Civil War: Pelosi Fires Back at Warren | LifeZette https://t.co/5GsJVPRnXH\n",
      "RT @wretchardthecat: People believe from instinct.  The Roman gods became ridiculou\n"
     ]
    }
   ],
   "source": [
    "print '\\n'.join( number2[number2.doy < 100 ].tweet_text.values)[:500]"
   ]
  },
  {
   "cell_type": "code",
   "execution_count": 677,
   "metadata": {
    "collapsed": true
   },
   "outputs": [],
   "source": [
    "fp = file('number1.txt','w')\n",
    "with fp as dump:\n",
    "    dump.write('\\n'.join( number1[ (number1.doy > 259) & (number1.doy < 265) ].tweet_text.values) )"
   ]
  },
  {
   "cell_type": "markdown",
   "metadata": {},
   "source": [
    "## Retweets\n",
    "\n",
    "\n",
    "So most if not all of these are retweets \n",
    "\n",
    "so what ?"
   ]
  },
  {
   "cell_type": "code",
   "execution_count": 679,
   "metadata": {},
   "outputs": [
    {
     "name": "stderr",
     "output_type": "stream",
     "text": [
      "/Users/macbuse/anaconda2/lib/python2.7/site-packages/ipykernel_launcher.py:4: FutureWarning: currently extract(expand=None) means expand=False (return Index/Series/DataFrame) but in a future version of pandas this will be changed to expand=True (return DataFrame)\n",
      "  after removing the cwd from sys.path.\n"
     ]
    }
   ],
   "source": [
    "rt_regex = re.compile('RT @([\\w|_]+)')\n",
    "\n",
    "tweet_bags = [ kk[ (259 < kk.doy ) & (kk.doy < 265) ].tweet_text for kk in top10[:2] ] \n",
    "orig_tweeters = [ x.str.extract(rt_regex) for x in tweet_bags]"
   ]
  },
  {
   "cell_type": "code",
   "execution_count": 585,
   "metadata": {
    "collapsed": true
   },
   "outputs": [],
   "source": [
    "A = set(orig_tweeters[0])\n",
    "B = set(orig_tweeters[1])"
   ]
  },
  {
   "cell_type": "code",
   "execution_count": 588,
   "metadata": {
    "collapsed": true
   },
   "outputs": [],
   "source": [
    "C = A.intersection(B)"
   ]
  },
  {
   "cell_type": "code",
   "execution_count": null,
   "metadata": {
    "collapsed": true
   },
   "outputs": [],
   "source": []
  },
  {
   "cell_type": "markdown",
   "metadata": {},
   "source": [
    "# Original unretweeted stuff \n",
    "\n",
    "This is a fecker - to invert the mask you have to use (tilde) !!"
   ]
  },
  {
   "cell_type": "code",
   "execution_count": 622,
   "metadata": {},
   "outputs": [
    {
     "name": "stdout",
     "output_type": "stream",
     "text": [
      "In a year of #OscarsSoWhite, a Mexican film-maker quietly dominates the #AcademyAwards #OscarHasNoColor https://t.co/uKR…\n",
      "#ThanksObama glad you're gone.\n",
      "Hillary’s resistance only aggravates the situation #ReleaseClintonsMedicalRecords #ImNotWithHer\n",
      "The first president of the US was born today in 1732 #HappyBirthdayGeorgeWashington https://t.co/CIfUJBVn83\n",
      "CALLING ON ALL #TRUMP_VOTERS  URGENT‼️ #TrumpPence16  #TrumpForPresident  #PodestaEmails33  PLEASE RT RT RT ‼️ https://t… #TrumpForPresident\n",
      "It's either working class \"kills\" her, or she kills working class\n",
      "So make your choice!!!! #tcot https://t.co/LkLqJIT1o6\n",
      "You'd better read it before watching #debates \n",
      "https://t.co/wPo3W6sVU5\n",
      "\"#ThanksObama What Obama leaves behind:\n",
      "Tax plans of Clinton v Trump. #ImNOTwithHer #Hillary #Trump https://t.co/B8tZRON8Dl\n",
      "Our life is impossible without our leader! We remember you #HappyBirthdayGeorgeWashington https://t.co/ShT3Ddgckn\n",
      "Never forget #HappyBirthdayGeorgeWashington\n",
      "#ThanksObama Obama's tenure was like passing kidney stones. Long and painful event, but it's over\n",
      "#CrookedHillary can ONLY win if the election is rigged.  She cannot win a free and fair election.  #MAGA #TrumpPence16 #TrumpForPresident\n",
      ".@realDonaldTrump why would anyone vote for someone who will raise taxes, dilute 2nd amendment\n",
      ".@realDonaldTrump WARNING⚠️CDC ALERT⚠️ ERADICATE ☑️ote #TRUMP #TrumpForPresident\n",
      "I don't vote dems, but...poor Bernie https://t.co/u8O7V9kxKv\n",
      "We need to bring our country back from the edge of extinction!!! @realDonaldTrump #WakeUpAmerica https://t.co/bDnzjDya0R\n",
      "First time ever voting in 38 Years! #ElectionDay #TrumpWinsBecause #TrumpPence16 . I BELIEVE ♡ #TrumpForPresident\n",
      "#ThanksObama Obama has accumulated more debt than ALL U.S. Presidents combined!\n",
      "Tired of hearing \"police officers sacrifice their family time for us\"! They sacrafice others family lives for no reason …\n",
      "How can #Killary be our president, she's ill! #ReleaseClintonsMedicalRecords\n",
      "#ThanksObama Just imagine in less then a week it will be as if Obama was never even here.\n",
      ". @realDonaldTrump Not according to your gal #CorruptHillary Her campaign even upped the anti toward Election Day #TrumpForPresident\n",
      "#ImNotWithHer #NeverHilary #TrumpPence16 #MakeAmericaGreatAgain https://t.co/2pmC6LygvS\n",
      "#ThanksObama One of the worst things Obama did was to give golf a bad name.  Now it's considered a haven for lazy, irresponsbile bastards\n",
      "#ThanksObama After 8 years, Obama persuaded exactly no one to close Guantanamo. https://t.co/CvmveK6cuh\n"
     ]
    }
   ],
   "source": [
    "mask = number1.tweet_text.str.startswith('RT ')\n",
    "print '\\n'.join(number1[~mask].tweet_text.values)"
   ]
  },
  {
   "cell_type": "code",
   "execution_count": 648,
   "metadata": {},
   "outputs": [
    {
     "name": "stdout",
     "output_type": "stream",
     "text": [
      "Muslims firebomb bus in Paris\n",
      "Refugees still welcome? #refugeeswelcome  \n",
      "https://t.co/9vyPTctgMN\n",
      "I just don't agree with #OscarsSoWhite ... It's not to do with race, it's to do with when a film is released #OscarHasNoColor\n",
      "This is a no no.  #PodestaEmails34 https://t.co/JA8DixdXMl #wikileaks #TrumpPence16 https://t.co/cHMWoqWnEf #TrumpForPresident\n",
      "#ReleaseClintonsMedicalRecords If there’s nothing to be afraid of, what’s the problem, show the records!\n",
      "Interesting point on the first presidenti\n"
     ]
    }
   ],
   "source": [
    "mask = number2.tweet_text.str.startswith('RT ')\n",
    "print '\\n'.join(number2[~mask].tweet_text.values)[:500]"
   ]
  },
  {
   "cell_type": "markdown",
   "metadata": {},
   "source": [
    "# Retweet and favorited\n",
    "\n",
    "So number1 on the list doesn't seem to be that influential using this as a metric"
   ]
  },
  {
   "cell_type": "code",
   "execution_count": 757,
   "metadata": {},
   "outputs": [
    {
     "data": {
      "text/html": [
       "<div>\n",
       "<style>\n",
       "    .dataframe thead tr:only-child th {\n",
       "        text-align: right;\n",
       "    }\n",
       "\n",
       "    .dataframe thead th {\n",
       "        text-align: left;\n",
       "    }\n",
       "\n",
       "    .dataframe tbody tr th {\n",
       "        vertical-align: top;\n",
       "    }\n",
       "</style>\n",
       "<table border=\"1\" class=\"dataframe\">\n",
       "  <thead>\n",
       "    <tr style=\"text-align: right;\">\n",
       "      <th></th>\n",
       "      <th>twitter_screenname</th>\n",
       "      <th>date_tweet_sent</th>\n",
       "      <th>tweet_text</th>\n",
       "      <th>times_retweeted</th>\n",
       "      <th>times_favorited</th>\n",
       "      <th>Unnamed: 5</th>\n",
       "      <th>Unnamed: 6</th>\n",
       "      <th>Unnamed: 7</th>\n",
       "      <th>Unnamed: 8</th>\n",
       "      <th>Unnamed: 9</th>\n",
       "      <th>Unnamed: 10</th>\n",
       "      <th>Unnamed: 11</th>\n",
       "      <th>Unnamed: 12</th>\n",
       "      <th>Unnamed: 13</th>\n",
       "      <th>Unnamed: 14</th>\n",
       "      <th>Unnamed: 15</th>\n",
       "      <th>Unnamed: 16</th>\n",
       "      <th>Unnamed: 17</th>\n",
       "      <th>doy</th>\n",
       "    </tr>\n",
       "  </thead>\n",
       "  <tbody>\n",
       "    <tr>\n",
       "      <th>98219</th>\n",
       "      <td>dorothiebell</td>\n",
       "      <td>8/2/2016 23:26</td>\n",
       "      <td>This is getting serious. This calls for seriou...</td>\n",
       "      <td>59.0</td>\n",
       "      <td>53.0</td>\n",
       "      <td>NaN</td>\n",
       "      <td>NaN</td>\n",
       "      <td>NaN</td>\n",
       "      <td>NaN</td>\n",
       "      <td>NaN</td>\n",
       "      <td>NaN</td>\n",
       "      <td>NaN</td>\n",
       "      <td>NaN</td>\n",
       "      <td>NaN</td>\n",
       "      <td>NaN</td>\n",
       "      <td>NaN</td>\n",
       "      <td>NaN</td>\n",
       "      <td>NaN</td>\n",
       "      <td>215</td>\n",
       "    </tr>\n",
       "    <tr>\n",
       "      <th>187744</th>\n",
       "      <td>dorothiebell</td>\n",
       "      <td>9/16/2016 17:07</td>\n",
       "      <td>#CrookedHillary tries to blame Trump for being...</td>\n",
       "      <td>56.0</td>\n",
       "      <td>37.0</td>\n",
       "      <td>NaN</td>\n",
       "      <td>NaN</td>\n",
       "      <td>NaN</td>\n",
       "      <td>NaN</td>\n",
       "      <td>NaN</td>\n",
       "      <td>NaN</td>\n",
       "      <td>NaN</td>\n",
       "      <td>NaN</td>\n",
       "      <td>NaN</td>\n",
       "      <td>NaN</td>\n",
       "      <td>NaN</td>\n",
       "      <td>NaN</td>\n",
       "      <td>NaN</td>\n",
       "      <td>260</td>\n",
       "    </tr>\n",
       "  </tbody>\n",
       "</table>\n",
       "</div>"
      ],
      "text/plain": [
       "       twitter_screenname  date_tweet_sent  \\\n",
       "98219        dorothiebell   8/2/2016 23:26   \n",
       "187744       dorothiebell  9/16/2016 17:07   \n",
       "\n",
       "                                               tweet_text  times_retweeted  \\\n",
       "98219   This is getting serious. This calls for seriou...             59.0   \n",
       "187744  #CrookedHillary tries to blame Trump for being...             56.0   \n",
       "\n",
       "        times_favorited  Unnamed: 5  Unnamed: 6  Unnamed: 7  Unnamed: 8  \\\n",
       "98219              53.0         NaN         NaN         NaN         NaN   \n",
       "187744             37.0         NaN         NaN         NaN         NaN   \n",
       "\n",
       "        Unnamed: 9  Unnamed: 10  Unnamed: 11  Unnamed: 12  Unnamed: 13  \\\n",
       "98219          NaN          NaN          NaN          NaN          NaN   \n",
       "187744         NaN          NaN          NaN          NaN          NaN   \n",
       "\n",
       "        Unnamed: 14  Unnamed: 15  Unnamed: 16  Unnamed: 17  doy  \n",
       "98219           NaN          NaN          NaN          NaN  215  \n",
       "187744          NaN          NaN          NaN          NaN  260  "
      ]
     },
     "execution_count": 757,
     "metadata": {},
     "output_type": "execute_result"
    }
   ],
   "source": [
    "kk = top10[5]\n",
    "kk[(kk.times_retweeted >5)].sort_values(by=['doy'])"
   ]
  },
  {
   "cell_type": "code",
   "execution_count": 722,
   "metadata": {},
   "outputs": [
    {
     "data": {
      "text/plain": [
       "20494.0"
      ]
     },
     "execution_count": 722,
     "metadata": {},
     "output_type": "execute_result"
    }
   ],
   "source": [
    "df.times_retweeted.max()"
   ]
  },
  {
   "cell_type": "markdown",
   "metadata": {},
   "source": [
    "## Distribution of retweet numbers"
   ]
  },
  {
   "cell_type": "code",
   "execution_count": 735,
   "metadata": {},
   "outputs": [
    {
     "data": {
      "text/plain": [
       "[<matplotlib.lines.Line2D at 0x14c821950>]"
      ]
     },
     "execution_count": 735,
     "metadata": {},
     "output_type": "execute_result"
    },
    {
     "data": {
      "image/png": "[encoded data removed]",
      "text/plain": [
       "<matplotlib.figure.Figure at 0x14c79b2d0>"
      ]
     },
     "metadata": {},
     "output_type": "display_data"
    }
   ],
   "source": [
    "trt = [ int(x)/50 for x in df.times_retweeted[(df.times_retweeted >1)] ]\n",
    "trt = collections.Counter(trt)\n",
    "XS,YS = zip(*trt.items()[:50])\n",
    "plt.plot(XS,YS)"
   ]
  },
  {
   "cell_type": "code",
   "execution_count": 748,
   "metadata": {},
   "outputs": [],
   "source": [
    "big_hitters = df.twitter_screenname[(df.times_retweeted >1000)]\n",
    "top_tweets = collections.Counter(big_hitters).items()"
   ]
  },
  {
   "cell_type": "code",
   "execution_count": 751,
   "metadata": {},
   "outputs": [],
   "source": [
    "top_tweets.sort(key=lambda x:-x[1])"
   ]
  },
  {
   "cell_type": "markdown",
   "metadata": {},
   "source": [
    "Apparently I'm not the only one to notice that **ten_gop** is a big hitter\n",
    "\n",
    "https://edition.cnn.com/2018/02/16/politics/who-is-ten-gop/index.html\n",
    "\n",
    "but this one is still active\n",
    "\n",
    "https://twitter.com/hashtag/Pamela_Moore13?src=hash"
   ]
  },
  {
   "cell_type": "code",
   "execution_count": 752,
   "metadata": {},
   "outputs": [
    {
     "data": {
      "text/plain": [
       "[('ten_gop', 271),\n",
       " ('pamela_moore13', 61),\n",
       " ('crystal1johnson', 36),\n",
       " ('southlonestar', 8),\n",
       " ('gloed_up', 7),\n",
       " ('usa_gunslinger', 6),\n",
       " ('thefoundingson', 5),\n",
       " ('trayneshacole', 5),\n",
       " ('jenn_abrams', 3),\n",
       " ('tpartynews', 3),\n",
       " ('luke_jones13', 2),\n",
       " ('blk_voice', 2),\n",
       " ('patriototus', 1),\n",
       " ('redlanews', 1),\n",
       " ('blacknewsoutlet', 1),\n",
       " ('bleepthepolice', 1),\n",
       " ('realten_gop', 1),\n",
       " ('jeblary2016', 1),\n",
       " ('pigeontoday', 1)]"
      ]
     },
     "execution_count": 752,
     "metadata": {},
     "output_type": "execute_result"
    }
   ],
   "source": [
    "top_tweets"
   ]
  },
  {
   "cell_type": "markdown",
   "metadata": {},
   "source": [
    "But I'm more interested in the number 2"
   ]
  },
  {
   "cell_type": "code",
   "execution_count": 778,
   "metadata": {},
   "outputs": [],
   "source": [
    "pm_data = df[(df.twitter_screenname == 'pamela_moore13')& (df.times_retweeted >1000) ].sort_values(by=['doy'])"
   ]
  },
  {
   "cell_type": "code",
   "execution_count": 771,
   "metadata": {},
   "outputs": [
    {
     "data": {
      "text/plain": [
       "[<matplotlib.lines.Line2D at 0x14c950310>]"
      ]
     },
     "execution_count": 771,
     "metadata": {},
     "output_type": "execute_result"
    },
    {
     "data": {
      "image/png": "[encoded data removed]",
      "text/plain": [
       "<matplotlib.figure.Figure at 0x14b7ac950>"
      ]
     },
     "metadata": {},
     "output_type": "display_data"
    }
   ],
   "source": [
    "cc = collections.Counter(pm_data.doy).items()\n",
    "XS,YS = zip(*cc)\n",
    "plt.plot(XS,YS)"
   ]
  },
  {
   "cell_type": "code",
   "execution_count": 780,
   "metadata": {},
   "outputs": [
    {
     "name": "stdout",
     "output_type": "stream",
     "text": [
      "I would rather take care of TEN homeless US Veterans, than 50,000 migrants/illegal aliens.. \n",
      "How About You? https://t.co/Fa3H2Krxix\n",
      "\n",
      "--------------\n",
      "SORRY Detroit &amp; Flint! Iran needed that $400 million cash more than you did!\n",
      "#IranRansomScandal https://t.co/ICF0kdbLDN\n",
      "\n",
      "--------------\n",
      "France is lost.\n",
      "#French police try to enter a muslim no-go zone.\n",
      "\n",
      "We can not allow this in America! https://t.co/JtQyiPMhE1\n",
      "\n",
      "--------------\n",
      "\"I FIRED Hiliary bc she was a lying, unethical, dishonest attorney!\" — Jerry Zeifman\n",
      "#HillarysEmails\n",
      "#NeverHillary https://t.co/ercOxBJAjz\n",
      "\n",
      "--------------\n",
      "#HillaryClinton hung out with guy with White Power tattoo then deleted the tweet\n",
      "Let's help her not to forget this!😏 https://t.co/befwhFmGvn\n",
      "\n",
      "--------------\n",
      "V.P of MLK Society delivers a passionate speech to African Americans on behalf of Donald Trump https://t.co/07OZqsBAq9\n",
      "\n",
      "--------------\n",
      "Conway on polls tightening: \"Mr. Trump is doing this w/out the support of all Republicans &amp; it's quite remarkable.\" https://t.co/sm3JQUwY9G\n",
      "\n",
      "--------------\n",
      "Democrats for Trump!\n",
      "\"I used to be in Democratic Party but I wise up, I became smart and I got out\" https://t.co/pys0F770nt\n",
      "\n",
      "--------------\n",
      "Support his proposal!\n",
      "#HillarysHealth https://t.co/tqV8VrXEiK\n",
      "\n",
      "--------------\n",
      "Trump on Clinton's bodyguards: Take their guns away. She doesn't want guns.. let's see what happens\n",
      "#TheGOPHasBecome https://t.co/XiydsePMQk\n",
      "\n",
      "--------------\n",
      "Government wrongly granted citizenship to over 800 immigrants facing deportation.\n",
      "Thanks Obama for people like Ahma… https://t.co/uEmSrCsNUt\n",
      "\n",
      "--------------\n",
      "Sheriff:  \"People are so fed up and angry! They want a leader who going to defend America!\"\n",
      "#TrumpACandy https://t.co/ldQmnTHnn0\n",
      "\n",
      "--------------\n",
      "Liberals Hate This Video!\n",
      "So Share This And Save #Trump Millions In Election Campaign!😏 https://t.co/0bRCCOkb8V\n",
      "\n",
      "--------------\n",
      "That awkward moment when the media has to remind you that you're not a Muslim. https://t.co/4yPE5RcUU4\n",
      "\n",
      "--------------\n",
      "MASS SHOOTINGS: \n",
      "Reagan = 11 \n",
      "Bush Sr. = 12 \n",
      "Clinton = 23 \n",
      "Bush Jr. = 16 \n",
      "Obama = 165\n",
      "\n",
      "#Baltimore… https://t.co/0QpOU4DG25\n",
      "\n",
      "--------------\n",
      "\"Look at this crowd! This is amazing. We're going to win Florida so big.\" ~ Donald Trump \n",
      "Melbourne, Florida.… https://t.co/cAqTxAhPiC\n",
      "\n",
      "--------------\n",
      "I think people are finally seeing who Hillary really is and it ain't pretty!\n",
      "#FollowTheMoney https://t.co/Q0X9LCHGhy\n",
      "\n",
      "--------------\n",
      "The war is here!  This gentleman made more sense in 30 sec than #Obama for all time of his presidency..… https://t.co/xuvuDPNRgr\n",
      "\n",
      "--------------\n",
      "Obama describes the Muslim immigrants as \"women &amp; children\" \n",
      "Red Cross: 72% are men of fighting age. \n",
      "Typical Oboom… https://t.co/wqPwoqJdVp\n",
      "\n",
      "--------------\n",
      "Great shirt! https://t.co/iHqdDmhiaK\n",
      "\n",
      "--------------\n",
      "Man PROVES software stole votes in ALL 'Hillary won' counties! DNC rigged elections https://t.co/Asw0xKcny1\n",
      "\n",
      "--------------\n",
      "GREAT VIDEO=&gt; St. Louis Sisters for Trump Slam #CrookedHillary: \n",
      "“She’s Lying, Stealing and Killing!” https://t.co/bGaANXKUad\n",
      "\n",
      "--------------\n",
      "👍👍👍\n",
      "This is a movement for ALL Americans. Join the Trump Train 4 a better future, for Americans first! https://t.co/6AB4jO1zWT\n",
      "\n",
      "--------------\n",
      "\"Liberal tolerance\"\n",
      "Protester with \"Bill's A Rapist\" sign  was attacked at #Clinton rally in #LasVegas… https://t.co/wVSH5TWrRl\n",
      "\n",
      "--------------\n",
      "Hillary campaign: 'Less than a 100 people at a rally? Confiscate their cell phones! No press!' \n",
      "#PodestaEmails6… https://t.co/vPPwfdvinU\n",
      "\n",
      "--------------\n",
      "Virginia Women for #Trump protesting outside RNC headquarters.\n",
      "NO Women 4 Trump, right Michelle Obama?\n",
      "#TrumpDrSeuss https://t.co/3ijOCdk0oU\n",
      "\n",
      "--------------\n",
      "Ann Coulter: \"If Hillary wins, she will amnesty 30+ million illegal aliens &amp; Reps will never win election again...\" https://t.co/DqDi0sXncx\n",
      "\n",
      "--------------\n",
      "Just a reminder: Hillary Clinton taken $50,000000+ from countries who execute women &amp; homosexuals under Islamic Law… https://t.co/vv1JLczMnS\n",
      "\n",
      "--------------\n",
      "The war is here!\n",
      "This gentleman made more sense in 30 sec than #Obama for all time of his presidency..\n",
      "#KansasPlot https://t.co/3Y2OG86cXe\n",
      "\n",
      "--------------\n",
      "Sheriff:  \"People are so fed up and angry! They want a leader who going to defend America!\"… https://t.co/hrhnZ5gCdn\n",
      "\n",
      "--------------\n",
      "Detroit residents speak out against the failed policies of Obama, Hillary &amp; democrats\n",
      "#ImGoingToMissObamaBecause https://t.co/aGMH2NroNV\n",
      "\n",
      "--------------\n",
      "Princeton Professor Exposes how to Commit MASS #VoterFraud in 7MIN\n",
      "\n",
      "VOTER ID SHOULD BE REQUIRED!\n",
      "\n",
      "#DrainTheSwamp https://t.co/L8o22MQgT2\n",
      "\n",
      "--------------\n",
      "Bernie campaign director endorses Trump, slams Hillary's elitism\n",
      "\n",
      "Thousands of his supporters DISGUSTED with Hillar… https://t.co/0TtHH58QkY\n",
      "\n",
      "--------------\n",
      "#Voterfraud in Indiana! Dems trying to steal our vote! \n",
      "\n",
      "We must have voter ID laws in EVERY state! \n",
      "RT IF YOU AGRE… https://t.co/3zBgZB26Q0\n",
      "\n",
      "--------------\n",
      "#FACTCHECK: Hillary Said 90% Of Clinton Foundation Donations go to Charity.\n",
      "\n",
      "Actual Number: 5.7%\n",
      "\n",
      "#PodestaEmails14 https://t.co/MekXLd8Yju\n",
      "\n",
      "--------------\n",
      "Catholic Priest blasts Hillary Clinton https://t.co/SqlDrMGEjb\n",
      "\n",
      "--------------\n",
      "Crowd chanting \"Podesta! We got your emails, Podesta!\" live on @CNN during discussion\n",
      "\n",
      "Podesta: \"Uh, uh, uh, it uh,… https://t.co/8Me1LvHTsq\n",
      "\n",
      "--------------\n",
      "Dishonest! \n",
      "\n",
      "CNN Cuts Off Congressman When #WikiLeaks Mentioned\n",
      "\n",
      "The biggest news channel in the world behaves like… https://t.co/I4Bx8gurJl\n",
      "\n",
      "--------------\n",
      "Trump crowd in Newtown, PA.\n",
      "These are the lines that you will never see at a #CrookedHillary rally!\n",
      "#MAGA https://t.co/JjbEI0DqHF\n",
      "\n",
      "--------------\n",
      ".@realDonaldTrump: \"You have 1.8 million who are dead who are registered to vote. And some of them absolutely vote.… https://t.co/P5OUj5kdx2\n",
      "\n",
      "--------------\n",
      "Listen how Hillary speaks to voters when she thinks nobody is watching...\n",
      "#NastyWoman https://t.co/qaP3o8FbdV\n",
      "\n",
      "--------------\n",
      "\"Bad Experience\"\n",
      "NEW EMAIL shows Pentagon ASKED Hillary to LET THEM send help 2 #Benghazi proving Leon Panetta LIED… https://t.co/SMD8FiJvvG\n",
      "\n",
      "--------------\n",
      "Man PROVES software stole votes in ALL 'Hillary won' counties! \n",
      "\n",
      "DNC rigged elections https://t.co/wXhNcuz4in\n",
      "\n",
      "--------------\n",
      "Former FBI Asst Director James Kallstrom endorses Donald Trump\n",
      "\"Our country is going down the tubes\"\n",
      "Listen to what… https://t.co/HXPPMp1QHz\n",
      "\n",
      "--------------\n",
      "Woman who accused Trump supporter of punching her at rally, changed story after being implicated in #Veritas tape!… https://t.co/swcFn6ztT5\n",
      "\n",
      "--------------\n",
      "I prefer Trump's platform for our community. He can put America back to work back to church back to school! ~ Alved… https://t.co/MbLaqjwmdf\n",
      "\n",
      "--------------\n",
      "Watch: Detroit residents speak out against the failed policies of Obama, Hillary &amp; democrats… https://t.co/9v300ileJ0\n",
      "\n",
      "--------------\n",
      "Newt Gingrich to Megyn Kelly: 'I'm sick &amp; tired of people like you' \n",
      "LOL https://t.co/CWUuVRC5Lx\n",
      "\n",
      "--------------\n",
      "Former Navy Officer Peggy Hubbard endorses Trump!\n",
      "\n",
      "\"Something needs to Change and that's why I'm Voting Trump! I'm… https://t.co/qf28hDm04h\n",
      "\n",
      "--------------\n",
      "65 Top \"Journalists\" from MSNBC, CNN, ABC, CBS &amp; Politico have been submitting their work to Hillary for approval b… https://t.co/zlVtNwZHaR\n",
      "\n",
      "--------------\n",
      "Pence: If My Son(a Marine)Mishandled Info Like Clinton, They'd 'At Least Be Court Marshaled'\n",
      "\n",
      "American people sick… https://t.co/enehS2LFFn\n",
      "\n",
      "--------------\n",
      "Mike Huckabee visits some of #CrookedHillary's voters\n",
      "#GoHillary https://t.co/DJi2LRmA7O\n",
      "\n",
      "--------------\n",
      "Fox News: #HillaryClinton's team paid $700,000 to influence the #FBI investigation against her. https://t.co/FreZ942aS8\n",
      "\n",
      "--------------\n",
      "Ann Coulter: \"If Hillary wins, she will amnesty 30+ million illegal aliens &amp; Reps will never win election again...\"… https://t.co/CCfbptvmUF\n",
      "\n",
      "--------------\n",
      "RETWEET &amp; LIKE for Melania Trump, ignore for Bill Clinton! https://t.co/B7gkNbs88u\n",
      "\n",
      "--------------\n",
      "Melania Trump gave a campaign speech for her husband @realDonaldTrump: \"‘Make America Great Again’ is not just some… https://t.co/iJMjwjPKBM\n",
      "\n",
      "--------------\n",
      "BREAKING! More EXTENSIVE Broward County Voter Fraud Reported By Elections Worker! https://t.co/fLVBODPu3D\n",
      "\n",
      "--------------\n",
      "11-Yr-Old Boy Attacked at School &amp; Put in Crutches for Voting Trump in Mock Election\n",
      "\n",
      "And who are the real fascists… https://t.co/amhltGVsuQ\n",
      "\n",
      "--------------\n",
      "SHOCKING VIDEO: California High School Student BRUTALLY BEATEN For Supporting DONALD TRUMP!! https://t.co/5HIGYwvKC5\n",
      "\n",
      "--------------\n",
      "Very Unpopular Guy!\n",
      "\n",
      "GREECE ERUPTS IN VIOLENCE: Riots in the streets of Athens over Obama's visit https://t.co/uJfB3oSesO\n",
      "\n",
      "--------------\n",
      "Jan Brewer on democrats: Every time you disagree with democrats, no matter which subject it is, YOU'RE A BIGOT OR R… https://t.co/VdfHil75Xa\n"
     ]
    }
   ],
   "source": [
    "print '\\n\\n--------------\\n'.join(pm_data.tweet_text)"
   ]
  },
  {
   "cell_type": "markdown",
   "metadata": {},
   "source": [
    "# Distribution of tweets over the day"
   ]
  },
  {
   "cell_type": "code",
   "execution_count": 669,
   "metadata": {
    "collapsed": true
   },
   "outputs": [],
   "source": [
    "def hour(x):\n",
    "    tx = x.split()[1]\n",
    "    return int(tx.split(':')[0])\n",
    "\n",
    "tweet_times_freqs = []\n",
    "for X in top10:\n",
    "    tt = [hour(x) for x in X.date_tweet_sent.values]\n",
    "    tt = collections.Counter(tt).items()\n",
    "    tt.sort()\n",
    "    tweet_times_freqs.append(tt)"
   ]
  },
  {
   "cell_type": "code",
   "execution_count": 781,
   "metadata": {},
   "outputs": [
    {
     "data": {
      "image/png": "[encoded data removed]",
      "text/plain": [
       "<matplotlib.figure.Figure at 0x14bcbdfd0>"
      ]
     },
     "metadata": {},
     "output_type": "display_data"
    }
   ],
   "source": [
    "#tweet times for the top 5\n",
    "for X in tweet_times_freqs[:5]:\n",
    "    XS,YS = zip(*X)\n",
    "    plt.plot(XS,YS)"
   ]
  },
  {
   "cell_type": "markdown",
   "metadata": {},
   "source": [
    "This doesn't seem unusual either - troughs around commuting times.\n",
    "Though they do seem to be very active in the afternoon"
   ]
  },
  {
   "cell_type": "code",
   "execution_count": 672,
   "metadata": {},
   "outputs": [
    {
     "data": {
      "image/png": "[encoded data removed]",
      "text/plain": [
       "<matplotlib.figure.Figure at 0x14bfd7610>"
      ]
     },
     "metadata": {},
     "output_type": "display_data"
    }
   ],
   "source": [
    "for X in tweet_times_freqs[5:10]:\n",
    "    XS,YS = zip(*X)\n",
    "    plt.plot(XS,YS)"
   ]
  },
  {
   "cell_type": "markdown",
   "metadata": {},
   "source": []
  },
  {
   "cell_type": "markdown",
   "metadata": {},
   "source": [
    "# Hashtag analysis\n",
    "\n",
    "I'm not going to do anything complicated but here we go"
   ]
  },
  {
   "cell_type": "code",
   "execution_count": 111,
   "metadata": {
    "collapsed": true
   },
   "outputs": [],
   "source": [
    "data = file('amalgam_txts.txt','r').read()"
   ]
  },
  {
   "cell_type": "code",
   "execution_count": 322,
   "metadata": {
    "collapsed": true
   },
   "outputs": [],
   "source": [
    "tags = hashtag_regex.findall(data)\n",
    "tags = list(set(tags))\n",
    "tags.sort()"
   ]
  },
  {
   "cell_type": "code",
   "execution_count": 247,
   "metadata": {
    "collapsed": true
   },
   "outputs": [],
   "source": [
    "clinton = [x for x in tags if 'clinton' in x.lower()]\n",
    "clinton = list(set(clinton))\n",
    "clinton.sort()"
   ]
  },
  {
   "cell_type": "code",
   "execution_count": 249,
   "metadata": {
    "collapsed": true
   },
   "outputs": [],
   "source": [
    "#associated_words(clinton,['clintons','hilary'])"
   ]
  },
  {
   "cell_type": "code",
   "execution_count": 696,
   "metadata": {
    "collapsed": true
   },
   "outputs": [],
   "source": [
    "bill = [x for x in clinton if 'bill' in x.lower()]\n",
    "hil = [x for x in clinton if 'hillary' in x.lower() ]"
   ]
  },
  {
   "cell_type": "markdown",
   "metadata": {},
   "source": [
    "we have to write a filter to clean things up \n",
    "using a list of **stop words**"
   ]
  },
  {
   "cell_type": "code",
   "execution_count": 234,
   "metadata": {
    "collapsed": true
   },
   "outputs": [],
   "source": [
    "def associated_words(tags, omit=['']):\n",
    "    stop_words = omit + ['bill','hillary','clinton','2016','16','_'] \n",
    "    old = ' '.join(tags)\n",
    "    stuff = old.lower()\n",
    "    for x in stop_words:\n",
    "        stuff = stuff.replace(x,'')\n",
    "    return set(stuff.split())"
   ]
  },
  {
   "cell_type": "code",
   "execution_count": 233,
   "metadata": {},
   "outputs": [
    {
     "data": {
      "text/plain": [
       "{'arrest',\n",
       " 'corrupt',\n",
       " 'criminal',\n",
       " 'crooked',\n",
       " 'forpresident',\n",
       " 'indict',\n",
       " 'rotten',\n",
       " 'scripted',\n",
       " 'searchterms',\n",
       " 'theliesof'}"
      ]
     },
     "execution_count": 233,
     "metadata": {},
     "output_type": "execute_result"
    }
   ],
   "source": [
    "associated_words(hil)"
   ]
  },
  {
   "cell_type": "code",
   "execution_count": 697,
   "metadata": {
    "collapsed": true
   },
   "outputs": [],
   "source": [
    "obama = [x for x in tags if 'obama' in x.lower()]\n",
    "trump = [x for x in tags if 'trump' in x.lower()]"
   ]
  },
  {
   "cell_type": "code",
   "execution_count": 700,
   "metadata": {},
   "outputs": [
    {
     "data": {
      "text/plain": [
       "{'1',\n",
       " '100',\n",
       " '10for',\n",
       " '1776',\n",
       " '2',\n",
       " '20',\n",
       " '2006',\n",
       " '201',\n",
       " '2020',\n",
       " '2k',\n",
       " '3pillarsofism',\n",
       " '4',\n",
       " '420',\n",
       " '45',\n",
       " '4president',\n",
       " '4prez',\n",
       " '4vets',\n",
       " 'acandy',\n",
       " 'achump',\n",
       " 'acrifices',\n",
       " 'address',\n",
       " 'administration',\n",
       " 'advantage',\n",
       " 'afact',\n",
       " 'afterimplodes',\n",
       " 'againstterrorism',\n",
       " 'ahorrormovie',\n",
       " 'aid',\n",
       " 'altrightfilms',\n",
       " 'alway',\n",
       " 'always',\n",
       " 'america',\n",
       " 'and',\n",
       " 'andhislyingliarsarelying',\n",
       " 'annoyin3words',\n",
       " 'anov',\n",
       " 'anti',\n",
       " 'antiidiot',\n",
       " 'antiisamerican',\n",
       " 'antimovements',\n",
       " 'antirally',\n",
       " 'aquote',\n",
       " 'army',\n",
       " 'assassinate',\n",
       " 'atl',\n",
       " 'aveus',\n",
       " 'avl',\n",
       " 'az',\n",
       " 'baby',\n",
       " 'ban',\n",
       " 'baron',\n",
       " 'barron',\n",
       " 'because',\n",
       " 'beforeivotefor',\n",
       " 'bernersfor',\n",
       " 'bikers4',\n",
       " 'bikersfor',\n",
       " 'blackchurchendorse',\n",
       " 'blackhistory',\n",
       " 'blackout',\n",
       " 'blackoutreachsobad',\n",
       " 'blacks4',\n",
       " 'blacksfor',\n",
       " 'blame',\n",
       " 'boo',\n",
       " 'bookreport',\n",
       " 'bookreports',\n",
       " 'bots',\n",
       " 'boycott',\n",
       " 'bud',\n",
       " 'bully',\n",
       " 'ca4',\n",
       " 'cake',\n",
       " 'california4',\n",
       " 'californiafor',\n",
       " 'call',\n",
       " 'callout',\n",
       " 'campaign',\n",
       " 'campaignslogans',\n",
       " 'cantbepotus',\n",
       " 'cantstump',\n",
       " 'care',\n",
       " 'care1',\n",
       " 'care2',\n",
       " 'caredefe',\n",
       " 'caref',\n",
       " 'carefail',\n",
       " 'careisworsethan',\n",
       " 'cast',\n",
       " 'catholics4',\n",
       " 'catsagainst',\n",
       " 'certified',\n",
       " 'check',\n",
       " 'chickken',\n",
       " 'christiansfor',\n",
       " 'coalition',\n",
       " 'cokedup',\n",
       " 'comingchallenge',\n",
       " 'community',\n",
       " 'contract',\n",
       " 'covering',\n",
       " 'crazytrain',\n",
       " 'crime',\n",
       " 'cult',\n",
       " 'cup',\n",
       " 'curruption',\n",
       " 'dc',\n",
       " 'debateguests',\n",
       " 'defeat',\n",
       " 'democratsfor',\n",
       " 'dems4',\n",
       " 'demsfor',\n",
       " 'deplorables4',\n",
       " 'deplorablesfor',\n",
       " 'derangementsyndrome',\n",
       " 'dictator',\n",
       " 'doctor',\n",
       " 'donald',\n",
       " 'donaldforpresident',\n",
       " 'donaldisapig',\n",
       " 'donaldj',\n",
       " 'donaldjjr',\n",
       " 'donaldjr',\n",
       " 'donaldunfit2leador',\n",
       " 'donaldunfit2leadorgovern',\n",
       " 'donaldvoice',\n",
       " 'donaldwins',\n",
       " 'dr',\n",
       " 'dropoutparty',\n",
       " 'drseuss',\n",
       " 'dump',\n",
       " 'dumpdonald',\n",
       " 'dumpf',\n",
       " 'dumpthe',\n",
       " 'economygoestohellonsteroidsunderandsoroswithdems',\n",
       " 'ed',\n",
       " 'effect',\n",
       " 'ego',\n",
       " 'enasong',\n",
       " 'ence',\n",
       " 'endlesslies',\n",
       " 'enmexico',\n",
       " 'era',\n",
       " 'eric',\n",
       " 'ertantrum',\n",
       " 'essionsandgeogroup',\n",
       " 'evangelical',\n",
       " 'events',\n",
       " 'exism',\n",
       " 'extape',\n",
       " 'facism',\n",
       " 'facts',\n",
       " 'fakeintelligencebriefing',\n",
       " 'fam',\n",
       " 'famousmelaniaquotes',\n",
       " 'famouspresidentquotes',\n",
       " 'fascist',\n",
       " 'fav',\n",
       " 'favo',\n",
       " 'favor',\n",
       " 'favorit',\n",
       " 'favoritehe',\n",
       " 'favoriteheadline',\n",
       " 'fbicodename',\n",
       " 'fear',\n",
       " 'feminineamerica4',\n",
       " 'financialtips',\n",
       " 'firein4words',\n",
       " 'first100',\n",
       " 'firstmonth',\n",
       " 'firstorder',\n",
       " 'firsts',\n",
       " 'fl',\n",
       " 'fl4',\n",
       " 'florida4',\n",
       " 'floridafor',\n",
       " 'followtrain',\n",
       " 'fopfor',\n",
       " 'forp',\n",
       " 'forpotus',\n",
       " 'forpresidens',\n",
       " 'forpresident',\n",
       " 'foundonforceone',\n",
       " 'freeloader',\n",
       " 'friend',\n",
       " 'fuck',\n",
       " 'ga',\n",
       " 'gays4',\n",
       " 'gaysfor',\n",
       " 'getting',\n",
       " 'girls',\n",
       " 'girlsbreaktheinternet',\n",
       " 'go',\n",
       " 'gogo',\n",
       " 'gotz',\n",
       " 'greed',\n",
       " 'grets',\n",
       " 'groping',\n",
       " 'haitiansfor',\n",
       " 'happyyear',\n",
       " 'hate',\n",
       " 'hater',\n",
       " 'haters',\n",
       " 'hotties4',\n",
       " 'howtosurviveamerica',\n",
       " 'howusyourpenis',\n",
       " 'hypocrisy',\n",
       " 'i',\n",
       " 'ians',\n",
       " 'icelebratewith',\n",
       " 'icky',\n",
       " 'ifi',\n",
       " 'ified',\n",
       " 'ifwins',\n",
       " 'igns',\n",
       " 'immigrant4',\n",
       " 'imp',\n",
       " 'impeach',\n",
       " 'impeachmentparty',\n",
       " 'imvotingfor',\n",
       " 'imwithohio',\n",
       " 'in',\n",
       " 'inatx',\n",
       " 'inaugura',\n",
       " 'inaugural',\n",
       " 'inauguralbands',\n",
       " 'inauguration',\n",
       " 'inaugurationband',\n",
       " 'inaz',\n",
       " 'inbaltimore',\n",
       " 'incontrol',\n",
       " 'incos',\n",
       " 'incuba',\n",
       " 'indallas',\n",
       " 'indetroit',\n",
       " 'ineverett',\n",
       " 'infla',\n",
       " 'inmiami',\n",
       " 'innauguration',\n",
       " 'innc',\n",
       " 'inorlando',\n",
       " 'inphilly',\n",
       " 'inphx',\n",
       " 'inspired',\n",
       " 'intellectual',\n",
       " 'internationalhotel',\n",
       " 'intexas',\n",
       " 'investigate',\n",
       " 'investigatedonald',\n",
       " 'isaliberaldem',\n",
       " 'isapunk',\n",
       " 'isatraitor',\n",
       " 'isbad',\n",
       " 'isblacklikeme',\n",
       " 'iscoming',\n",
       " 'isdisqualifiedparty',\n",
       " 'ishope',\n",
       " 'ism',\n",
       " 'ismypresident',\n",
       " 'isnolaughingmatter',\n",
       " 'isnotmypresident',\n",
       " 'isourpresi',\n",
       " 'ispres',\n",
       " 'isright',\n",
       " 'istrash',\n",
       " 'isunstoppable',\n",
       " 'iswinning',\n",
       " 'iswithyou',\n",
       " 'isyourpresident',\n",
       " 'ivanka',\n",
       " 'ivote',\n",
       " 'j15mustgo',\n",
       " 'jewschoose',\n",
       " 'jewsfor',\n",
       " 'jobsback',\n",
       " 'keepsupatnight',\n",
       " 'kla',\n",
       " 'klan',\n",
       " 'land',\n",
       " 'landslide',\n",
       " 'lasttimepaidtaxes',\n",
       " 'latinaafor',\n",
       " 'latinos4',\n",
       " 'latinosfor',\n",
       " 'latinoswith',\n",
       " 'lationos4',\n",
       " 'lationswith',\n",
       " 'le',\n",
       " 'lead',\n",
       " 'leaks',\n",
       " 'lesbians4',\n",
       " 'lethinskin',\n",
       " 'lgb',\n",
       " 'lgbt4',\n",
       " 'lgbtq4',\n",
       " 'liar',\n",
       " 'lide',\n",
       " 'lies',\n",
       " 'liesmatter',\n",
       " 'loses',\n",
       " 'loveh',\n",
       " 'lovehat',\n",
       " 'lovehate',\n",
       " 'lovepresident',\n",
       " 'lovewon',\n",
       " 'makeaccountable',\n",
       " 'makeanthonyagain',\n",
       " 'march4',\n",
       " 'marchfor',\n",
       " 'mccain',\n",
       " 'melania',\n",
       " 'mentum',\n",
       " 'merkel',\n",
       " 'mexico',\n",
       " 'mexicotripsay',\n",
       " 'mexicotripsayings',\n",
       " 'michiganfor',\n",
       " 'militaryfor',\n",
       " 'millennials4',\n",
       " 'millennialsfor',\n",
       " 'misogyny',\n",
       " 'molester',\n",
       " 'moreelectablethan',\n",
       " 'movement',\n",
       " 'mr',\n",
       " 'msrally',\n",
       " 'mustvote',\n",
       " 'mypresident',\n",
       " 'na',\n",
       " 'naked',\n",
       " 'nar',\n",
       " 'narratesplanetearth',\n",
       " 'nation',\n",
       " 'never',\n",
       " 'neverer',\n",
       " 'neverers',\n",
       " 'neverevervote',\n",
       " 'nevernever',\n",
       " 'neveror',\n",
       " 'nevervote',\n",
       " 'newhampshirefor',\n",
       " 'newsconference',\n",
       " 'newtvshows',\n",
       " 'newyork4',\n",
       " 'nextfakevictim',\n",
       " 'nh',\n",
       " 'nh4',\n",
       " 'niffle',\n",
       " 'no',\n",
       " 'nomoredoublestandard',\n",
       " 'nomorefavoritism',\n",
       " 'nomorelies',\n",
       " 'nonapsfor',\n",
       " 'nonovote',\n",
       " 'northcarolina',\n",
       " 'notmypresident',\n",
       " 'notobviously',\n",
       " 'nuclear',\n",
       " 'obamatweetslike',\n",
       " 'oc',\n",
       " 'ocalypse',\n",
       " 'ocrats',\n",
       " 'oftballs',\n",
       " 'ohiofor',\n",
       " 'ohiovotes4',\n",
       " 'olympics',\n",
       " 'oncnn',\n",
       " 'only',\n",
       " 'op',\n",
       " 'outhcarolina',\n",
       " 'p',\n",
       " 'panam',\n",
       " 'parisagainst',\n",
       " 'partyof',\n",
       " 'pe',\n",
       " 'pecial',\n",
       " 'pedophile',\n",
       " 'peechinfourwords',\n",
       " 'pen',\n",
       " 'penc',\n",
       " 'penna4',\n",
       " 'pennsylvaniafor',\n",
       " 'peotus',\n",
       " 'phobia',\n",
       " 'phx',\n",
       " 'pilots4',\n",
       " 'potus',\n",
       " 'pr',\n",
       " 'pray4',\n",
       " 'prayerfor',\n",
       " 'prayfor',\n",
       " 'predator',\n",
       " 'preident',\n",
       " 'prescandidatesbetterthan',\n",
       " 'presidency',\n",
       " 'president',\n",
       " 'president1sttantrum',\n",
       " 'presidentdonaldj',\n",
       " 'presidentelect',\n",
       " 'presidentelectdonald',\n",
       " 'presidentelectdonaldj',\n",
       " 'presidential',\n",
       " 'pressco',\n",
       " 'pressconf',\n",
       " 'pressconference',\n",
       " 'presser',\n",
       " 'probable',\n",
       " 'probablet',\n",
       " 'probabletwe',\n",
       " 'probabletwee',\n",
       " 'probabletweets',\n",
       " 'problems',\n",
       " 'protest',\n",
       " 'protesters',\n",
       " 'protests',\n",
       " 'r',\n",
       " 'racism',\n",
       " 'racist',\n",
       " 'ral',\n",
       " 'rally',\n",
       " 'rallychi',\n",
       " 'rapist',\n",
       " 'realdonald',\n",
       " 'reich',\n",
       " 'rejectedcampaignslogans',\n",
       " 'rejectedtvshows',\n",
       " 'rememberwhen',\n",
       " 'replace',\n",
       " 'replacethe1partyryanatraitor2americaweneedournow',\n",
       " 'report',\n",
       " 'residen',\n",
       " 'resist',\n",
       " 'resisttuesday',\n",
       " 'revolution',\n",
       " 'riot',\n",
       " 'rioters',\n",
       " 'riots',\n",
       " 'romcom',\n",
       " 'ru',\n",
       " 'rus',\n",
       " 'ruskimole',\n",
       " 'russi',\n",
       " 'russia',\n",
       " 'russiacollusion',\n",
       " 'russiacoverup',\n",
       " 'sdrally',\n",
       " 'shoes4',\n",
       " 'sorospreparesforwar',\n",
       " 'stillwith',\n",
       " 'stomp4',\n",
       " 'stop',\n",
       " 'stopdonald',\n",
       " 'stophatedump',\n",
       " 'stuffisafraidof',\n",
       " 'stump4baby',\n",
       " 'stump4girls',\n",
       " 'super',\n",
       " 'supertuesdayvote',\n",
       " 't',\n",
       " 'tap',\n",
       " 'tape',\n",
       " 'tapes',\n",
       " 'tard',\n",
       " 'tards',\n",
       " 'taxes',\n",
       " 'taxevader',\n",
       " 'taxevasion',\n",
       " 'taxreturns',\n",
       " 'tea',\n",
       " 'team',\n",
       " 'teambts',\n",
       " 'teampa',\n",
       " 'televisionshows',\n",
       " 'ter',\n",
       " 'ters',\n",
       " 'terwarriors',\n",
       " 'thanks',\n",
       " 'thankyou',\n",
       " 'thankyoupresident',\n",
       " 'thatbitch',\n",
       " 'thatshowyougot',\n",
       " 'theestablishment',\n",
       " 'thefraud',\n",
       " 'thegreatunifier',\n",
       " 'theleft',\n",
       " 'theliar',\n",
       " 'themakingofdonald',\n",
       " 'thenalongcame',\n",
       " 'therealdonald',\n",
       " 'theswamp',\n",
       " 'thingsclaimsrigged',\n",
       " 'thingsmoretrustedthan',\n",
       " 'thingsthinks',\n",
       " 'thingsthinksareoverrated',\n",
       " 'tie',\n",
       " 'tied',\n",
       " 'tiestorussia',\n",
       " 'time',\n",
       " 'timefor',\n",
       " 'tiny',\n",
       " 'topwhining',\n",
       " 'tory',\n",
       " 'tower',\n",
       " 'townhall',\n",
       " 'townhallquestions',\n",
       " 'tpa4',\n",
       " 'tr',\n",
       " 'tra',\n",
       " 'trai',\n",
       " 'train',\n",
       " 'train09',\n",
       " 'trainin',\n",
       " 'traitor',\n",
       " 'transcripts',\n",
       " 'transition',\n",
       " 'transitionteam',\n",
       " 'treason',\n",
       " 'treasonous',\n",
       " 'tro',\n",
       " 'trong',\n",
       " 'troops',\n",
       " 'truck',\n",
       " 'truth',\n",
       " 'twitter',\n",
       " 'tx4',\n",
       " 'u',\n",
       " 'unfollow',\n",
       " 'unite4',\n",
       " 'unitedamericansfor',\n",
       " 'university',\n",
       " 'unpresidented',\n",
       " 'unstable',\n",
       " 'up',\n",
       " 'uperpowers',\n",
       " 'upporter',\n",
       " 'upporters',\n",
       " 'upthevolume',\n",
       " 'urge',\n",
       " 'usa',\n",
       " 'utin',\n",
       " 'veteransfor',\n",
       " 'vets4',\n",
       " 'vetsagainst',\n",
       " 'vetsfor',\n",
       " 'victory',\n",
       " 'vision',\n",
       " 'vote',\n",
       " 'vote4',\n",
       " 'voteaveamerica',\n",
       " 'votec',\n",
       " 'voteearlyfor',\n",
       " 'votefor',\n",
       " 'votefordonald',\n",
       " 'voteil',\n",
       " 'votekickoutjehadi',\n",
       " 'votenc',\n",
       " 'votenorthcarolina',\n",
       " 'voteoh',\n",
       " 'voters',\n",
       " 'voteusa',\n",
       " 'voting',\n",
       " 'votingonly',\n",
       " 'vs',\n",
       " 'wa',\n",
       " 'wall',\n",
       " 'war',\n",
       " 'wasright',\n",
       " 'watch',\n",
       " 'weare',\n",
       " 'wearred4electionday',\n",
       " 'wehate',\n",
       " 'welcomedemocrats4',\n",
       " 'welove',\n",
       " 'weneed',\n",
       " 'wfl',\n",
       " 'wheres',\n",
       " 'wherestaxes',\n",
       " 'whitehouse',\n",
       " 'whitesagainst',\n",
       " 'whore',\n",
       " 'whycanceledrallies',\n",
       " 'whyichoose',\n",
       " 'whyimvoting',\n",
       " 'whyisupport',\n",
       " 'whyivote',\n",
       " 'willwin',\n",
       " 'win',\n",
       " 'winning',\n",
       " 'wins',\n",
       " 'wins2020',\n",
       " 'wins4usa',\n",
       " 'winsbecause',\n",
       " 'winwith',\n",
       " 'wishfulheadlines',\n",
       " 'with',\n",
       " 'wo',\n",
       " 'woman4',\n",
       " 'women4',\n",
       " 'womenagainst',\n",
       " 'womenfo',\n",
       " 'womenfor',\n",
       " 'womenwhovote',\n",
       " 'won',\n",
       " 'wondebate',\n",
       " 'wontwait',\n",
       " 'writeincruznever',\n",
       " 'yourfeelings',\n",
       " 'yourself',\n",
       " 'yourthanksgiving',\n",
       " 'youth4'}"
      ]
     },
     "execution_count": 700,
     "metadata": {},
     "output_type": "execute_result"
    }
   ],
   "source": [
    "associated_words(trump, omit=['trumps','trump','pence'])\n"
   ]
  },
  {
   "cell_type": "code",
   "execution_count": 241,
   "metadata": {},
   "outputs": [
    {
     "data": {
      "text/plain": [
       "{'1st',\n",
       " '4',\n",
       " '4alls',\n",
       " 'actfor',\n",
       " 'african',\n",
       " 'africanhomelandstates',\n",
       " 'africans',\n",
       " 'allrejects',\n",
       " 'anti',\n",
       " 'antirhetoric',\n",
       " 'antitrumpis',\n",
       " 'bendover',\n",
       " 'black',\n",
       " 'blackpbs',\n",
       " 'blacks',\n",
       " 'bornagain',\n",
       " 'callbank',\n",
       " 'cgi',\n",
       " 'contractwith',\n",
       " 'dad',\n",
       " 'death2',\n",
       " 'deathto',\n",
       " 'decides',\n",
       " 'democratsdestructionof',\n",
       " 'deservesbetter',\n",
       " 'disgraceto',\n",
       " 'divided',\n",
       " 'eagle',\n",
       " 'eagleday',\n",
       " 'energyplan',\n",
       " 'f',\n",
       " 'failedslogans',\n",
       " 'fake',\n",
       " 'falls',\n",
       " 'feminine4trump',\n",
       " 'fi',\n",
       " 'fir',\n",
       " 'firs',\n",
       " 'first',\n",
       " 'flag',\n",
       " 'for',\n",
       " 'fuckingsinrealtime',\n",
       " 'fundamentallychanged',\n",
       " 'getitright',\n",
       " 'godbless',\n",
       " 'gods',\n",
       " 'gophatess',\n",
       " 'gopunfit2leadorgoverns',\n",
       " 'greats',\n",
       " 'grindingdown',\n",
       " 'guns',\n",
       " 'gunsin',\n",
       " 'hates',\n",
       " 'hatess',\n",
       " 'heartassociation',\n",
       " 'hire',\n",
       " 'historyisblack',\n",
       " 'honest',\n",
       " 'horrorstory',\n",
       " 'hostage',\n",
       " 'howtosurvivetrumps',\n",
       " 'idol',\n",
       " 'ilove',\n",
       " 'include',\n",
       " 'inspiring',\n",
       " 'isback',\n",
       " 'isdoomed',\n",
       " 'ismnotglobalism',\n",
       " 'keepbeautiful',\n",
       " 'keepsafeagain',\n",
       " 'lagalaxyvs',\n",
       " 'lefthates',\n",
       " 'letsmakegreat',\n",
       " 'letsmakegreatagain',\n",
       " 'libertyhour',\n",
       " 'made',\n",
       " 'make',\n",
       " 'makeabook',\n",
       " 'makedate',\n",
       " 'makefirst',\n",
       " 'makeg',\n",
       " 'makegr',\n",
       " 'makegre',\n",
       " 'makegreaagain',\n",
       " 'makegreat',\n",
       " 'makegreata',\n",
       " 'makegreatagain',\n",
       " 'makegreatgreatagain',\n",
       " 'makegreenagain',\n",
       " 'makegropeagain',\n",
       " 'makehealthyagain',\n",
       " 'makejimcrowagain',\n",
       " 'makeoneagain',\n",
       " 'makeproudagain',\n",
       " 'makerespectedagain',\n",
       " 'makerichagain',\n",
       " 'makesafeagain',\n",
       " 'makesickagain',\n",
       " 'makestrongagain',\n",
       " 'makeworkagain',\n",
       " 'makinggreatagain',\n",
       " 'masterspbs',\n",
       " 'matters',\n",
       " 'militia',\n",
       " 'miss',\n",
       " 'mr',\n",
       " 'muslims',\n",
       " 'native',\n",
       " 'ninjawarrior',\n",
       " 'norefugeesin',\n",
       " 'obamas',\n",
       " 'ojmadein',\n",
       " 'one',\n",
       " 'patriot',\n",
       " 'people',\n",
       " 'phobia',\n",
       " 'pray4',\n",
       " 'prayfor',\n",
       " 'progressivehateof',\n",
       " 'proud',\n",
       " 'proudtobe',\n",
       " 'rapeseverydays',\n",
       " 'reclaim',\n",
       " 'recyclesday',\n",
       " 'replacethe1partyryanatraitor2weneedourtrumpnow',\n",
       " 'restore',\n",
       " 'rip',\n",
       " 'riseup',\n",
       " 's',\n",
       " 'save',\n",
       " 'saveow',\n",
       " 'savetheworker',\n",
       " 'sfirst',\n",
       " 'shehates',\n",
       " 'signsyouare',\n",
       " 'slivesmatter',\n",
       " 'smerkel',\n",
       " 'sniper',\n",
       " 'spectator',\n",
       " 'spirit',\n",
       " 'struefeelingsabout',\n",
       " 'stupids',\n",
       " 'takeback',\n",
       " 'tellitsgreat',\n",
       " 'terrorist',\n",
       " 'thisisslastchance',\n",
       " 'transformin5words',\n",
       " 'trump',\n",
       " 'trumps',\n",
       " 'uaall',\n",
       " 'un',\n",
       " 'unafy',\n",
       " 'underattack',\n",
       " 'united',\n",
       " 'unitedsfortrump',\n",
       " 'unitedstatesof',\n",
       " 'unitefor',\n",
       " 'ursurystatesof',\n",
       " 'values',\n",
       " 'votetrumpsave',\n",
       " 'wake',\n",
       " 'wakeaup',\n",
       " 'wakeup',\n",
       " 'wasnevergreat',\n",
       " 'wetooare',\n",
       " 'wins',\n",
       " 'won',\n",
       " 'wrongfor',\n",
       " 'wtfin5words',\n",
       " 'yourvote'}"
      ]
     },
     "execution_count": 241,
     "metadata": {},
     "output_type": "execute_result"
    }
   ],
   "source": [
    "america = [x for x in tags if 'america' in x.lower()]\n",
    "associated_words(america, omit=['american','america'])"
   ]
  },
  {
   "cell_type": "code",
   "execution_count": null,
   "metadata": {
    "collapsed": true
   },
   "outputs": [],
   "source": []
  },
  {
   "cell_type": "code",
   "execution_count": null,
   "metadata": {
    "collapsed": true
   },
   "outputs": [],
   "source": []
  }
 ],
 "metadata": {
  "kernelspec": {
   "display_name": "Python 2",
   "language": "python",
   "name": "python2"
  },
  "language_info": {
   "codemirror_mode": {
    "name": "ipython",
    "version": 2
   },
   "file_extension": ".py",
   "mimetype": "text/x-python",
   "name": "python",
   "nbconvert_exporter": "python",
   "pygments_lexer": "ipython2",
   "version": "2.7.13"
  }
 },
 "nbformat": 4,
 "nbformat_minor": 2
}
