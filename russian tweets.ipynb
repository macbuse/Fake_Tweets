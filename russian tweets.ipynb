{
 "cells": [
  {
   "cell_type": "code",
   "execution_count": 348,
   "metadata": {
    "collapsed": true
   },
   "outputs": [],
   "source": [
    "import pandas as pd\n",
    "import re\n",
    "#OK so it's simple and not magic but it works\n",
    "hashtag_regex = re.compile(r'\\#(\\w*)')"
   ]
  },
  {
   "cell_type": "markdown",
   "metadata": {},
   "source": [
    "# Sources\n",
    "\n",
    "NBC News is publishing its database of more than 200,000 tweets that Twitter has tied to \"malicious activity\" from Russia-linked accounts during the 2016 U.S. presidential election.\n",
    "\n",
    "\n",
    "https://developers.slashdot.org/story/18/02/17/0038251/nbc-publishes-200000-tweets-tied-to-russian-trolls\n",
    "\n",
    "\n",
    "\n",
    "The original file has some junk in it which we have to delete before opening with Pandas :\n",
    "\n",
    "Tweets from confirmed Russian trolls, shows only username, timestamp (in UTC), tweet text, and number of times tweet was retweeted and favorited according to our data\",,,,,,,,,,,,,,,,,\n",
    "\n",
    "From NBC News' story: https://www.nbcnews.com/tech/social-media/now-available-more-200-000-deleted-russian-troll-tweets-n844731,,,,,,,,,,,,,,,,,\n",
    "\n",
    "\"If you publish using the data, please credit NBC News and include a link to this page. Send questions to ben.popken@nbcuni.com or twitter.com/bpopken.\",,,,,,,,,,,,,,,,,\n",
    "\n",
    "Twitter screenname,Date tweet sent,Tweet text,Times retweeted,Times favorited,,,,,,,,,,,,,\n",
    "\n",
    "ryanmaxwell_1,3/22/2016 18:31,#IslamKills Are you trying to say that there were no terrorist attacks in Europe before refugees were let in?,,,,,,,,,,,,,,,\n",
    "\n"
   ]
  },
  {
   "cell_type": "markdown",
   "metadata": {},
   "source": [
    "# Minimal cleanup of the CSV\n"
   ]
  },
  {
   "cell_type": "code",
   "execution_count": null,
   "metadata": {
    "collapsed": true
   },
   "outputs": [],
   "source": [
    "fp = file('streamlined_tweets.csv','r')\n",
    "print ''.join(fp.readlines()[:5])"
   ]
  },
  {
   "cell_type": "code",
   "execution_count": 86,
   "metadata": {
    "collapsed": true
   },
   "outputs": [],
   "source": [
    "fp = file('streamlined_tweets.csv','r')\n",
    "fe = file('fakenews_tweets.csv','w')\n",
    "\n",
    "with fe as piggy:\n",
    "    for L in fp.readlines()[3:]:\n",
    "        piggy.write(L)\n",
    "\n",
    "df = pd.read_csv('fakenews_tweets.csv')"
   ]
  },
  {
   "cell_type": "markdown",
   "metadata": {},
   "source": [
    "so the data now looks OK \n",
    "there are still a few NaNs in the **Tweet text**\n",
    "column but this isn't so important.\n",
    "\n",
    "I decided to rename the columns as it made following examples easier\n",
    "\n",
    "1. everything to lower case\n",
    "1. swap out spaces to underscores"
   ]
  },
  {
   "cell_type": "code",
   "execution_count": 429,
   "metadata": {},
   "outputs": [
    {
     "data": {
      "text/plain": [
       "'twitter_screenname date_tweet_sent tweet_text times_retweeted times_favorited Unnamed: 5 Unnamed: 6 Unnamed: 7 Unnamed: 8 Unnamed: 9 Unnamed: 10 Unnamed: 11 Unnamed: 12 Unnamed: 13 Unnamed: 14 Unnamed: 15 Unnamed: 16 Unnamed: 17 doy'"
      ]
     },
     "execution_count": 429,
     "metadata": {},
     "output_type": "execute_result"
    }
   ],
   "source": [
    "' '.join( list( df.columns.values)[:])"
   ]
  },
  {
   "cell_type": "code",
   "execution_count": 268,
   "metadata": {},
   "outputs": [
    {
     "data": {
      "text/plain": [
       "{'Date tweet sent': 'date_tweet_sent',\n",
       " 'Times favorited': 'times_favorited',\n",
       " 'Times retweeted': 'times_retweeted',\n",
       " 'Tweet text': 'tweet_text',\n",
       " 'Twitter screenname': 'twitter_screenname'}"
      ]
     },
     "execution_count": 268,
     "metadata": {},
     "output_type": "execute_result"
    }
   ],
   "source": [
    "rename_mapper = {}\n",
    "for x in df.columns.values[:5]:\n",
    "    rename_mapper[x] = x.lower().replace(' ','_')\n",
    "rename_mapper"
   ]
  },
  {
   "cell_type": "code",
   "execution_count": 287,
   "metadata": {},
   "outputs": [
    {
     "data": {
      "text/plain": [
       "array(['twitter_screenname', 'date_tweet_sent', 'tweet_text',\n",
       "       'times_retweeted', 'times_favorited'], dtype=object)"
      ]
     },
     "execution_count": 287,
     "metadata": {},
     "output_type": "execute_result"
    }
   ],
   "source": [
    "#Do an inplace as this is a fair chunk of data\n",
    "df.rename(index=str, \n",
    "          columns=rename_mapper,\n",
    "          copy=False,\n",
    "          inplace=True)\n",
    "df.columns.values[:5]"
   ]
  },
  {
   "cell_type": "markdown",
   "metadata": {},
   "source": [
    "so now we can just run a regex on the column "
   ]
  },
  {
   "cell_type": "code",
   "execution_count": 306,
   "metadata": {
    "collapsed": true
   },
   "outputs": [],
   "source": [
    "ph_raw = re.compile(r'\\#pokemon\\w*', re.IGNORECASE)\n",
    "# for some reason the fancy indexer won't work with NaN \n",
    "# so we have to set a flag to False\n",
    "mask = df.tweet_text.str.contains(ph_raw, na=False)"
   ]
  },
  {
   "cell_type": "code",
   "execution_count": 310,
   "metadata": {},
   "outputs": [
    {
     "data": {
      "text/html": [
       "<div>\n",
       "<style>\n",
       "    .dataframe thead tr:only-child th {\n",
       "        text-align: right;\n",
       "    }\n",
       "\n",
       "    .dataframe thead th {\n",
       "        text-align: left;\n",
       "    }\n",
       "\n",
       "    .dataframe tbody tr th {\n",
       "        vertical-align: top;\n",
       "    }\n",
       "</style>\n",
       "<table border=\"1\" class=\"dataframe\">\n",
       "  <thead>\n",
       "    <tr style=\"text-align: right;\">\n",
       "      <th></th>\n",
       "      <th>twitter_screenname</th>\n",
       "      <th>date_tweet_sent</th>\n",
       "      <th>tweet_text</th>\n",
       "      <th>times_retweeted</th>\n",
       "      <th>times_favorited</th>\n",
       "      <th>Unnamed: 5</th>\n",
       "      <th>Unnamed: 6</th>\n",
       "      <th>Unnamed: 7</th>\n",
       "      <th>Unnamed: 8</th>\n",
       "      <th>Unnamed: 9</th>\n",
       "      <th>Unnamed: 10</th>\n",
       "      <th>Unnamed: 11</th>\n",
       "      <th>Unnamed: 12</th>\n",
       "      <th>Unnamed: 13</th>\n",
       "      <th>Unnamed: 14</th>\n",
       "      <th>Unnamed: 15</th>\n",
       "      <th>Unnamed: 16</th>\n",
       "      <th>Unnamed: 17</th>\n",
       "    </tr>\n",
       "  </thead>\n",
       "  <tbody>\n",
       "    <tr>\n",
       "      <th>2805</th>\n",
       "      <td>peterkistner</td>\n",
       "      <td>7/20/2016 12:26</td>\n",
       "      <td>RT @SPIEGELONLINE: In Dänemark hat eine 49-Jäh...</td>\n",
       "      <td>NaN</td>\n",
       "      <td>NaN</td>\n",
       "      <td>NaN</td>\n",
       "      <td>NaN</td>\n",
       "      <td>NaN</td>\n",
       "      <td>NaN</td>\n",
       "      <td>NaN</td>\n",
       "      <td>NaN</td>\n",
       "      <td>NaN</td>\n",
       "      <td>NaN</td>\n",
       "      <td>NaN</td>\n",
       "      <td>NaN</td>\n",
       "      <td>NaN</td>\n",
       "      <td>NaN</td>\n",
       "      <td>NaN</td>\n",
       "    </tr>\n",
       "    <tr>\n",
       "      <th>36987</th>\n",
       "      <td>puredavie</td>\n",
       "      <td>7/30/2016 15:13</td>\n",
       "      <td>#IHatePokemonGoBecause my husband wants to cal...</td>\n",
       "      <td>NaN</td>\n",
       "      <td>NaN</td>\n",
       "      <td>NaN</td>\n",
       "      <td>NaN</td>\n",
       "      <td>NaN</td>\n",
       "      <td>NaN</td>\n",
       "      <td>NaN</td>\n",
       "      <td>NaN</td>\n",
       "      <td>NaN</td>\n",
       "      <td>NaN</td>\n",
       "      <td>NaN</td>\n",
       "      <td>NaN</td>\n",
       "      <td>NaN</td>\n",
       "      <td>NaN</td>\n",
       "      <td>NaN</td>\n",
       "    </tr>\n",
       "    <tr>\n",
       "      <th>49204</th>\n",
       "      <td>marianeuberg1</td>\n",
       "      <td>7/20/2016 12:18</td>\n",
       "      <td>RT @SPIEGELONLINE: In Dänemark hat eine 49-Jäh...</td>\n",
       "      <td>NaN</td>\n",
       "      <td>NaN</td>\n",
       "      <td>NaN</td>\n",
       "      <td>NaN</td>\n",
       "      <td>NaN</td>\n",
       "      <td>NaN</td>\n",
       "      <td>NaN</td>\n",
       "      <td>NaN</td>\n",
       "      <td>NaN</td>\n",
       "      <td>NaN</td>\n",
       "      <td>NaN</td>\n",
       "      <td>NaN</td>\n",
       "      <td>NaN</td>\n",
       "      <td>NaN</td>\n",
       "      <td>NaN</td>\n",
       "    </tr>\n",
       "    <tr>\n",
       "      <th>49362</th>\n",
       "      <td>puredavie</td>\n",
       "      <td>7/30/2016 16:33</td>\n",
       "      <td>RT @DanaGeezus: #IHatePokemonGoBecause  now I ...</td>\n",
       "      <td>NaN</td>\n",
       "      <td>NaN</td>\n",
       "      <td>NaN</td>\n",
       "      <td>NaN</td>\n",
       "      <td>NaN</td>\n",
       "      <td>NaN</td>\n",
       "      <td>NaN</td>\n",
       "      <td>NaN</td>\n",
       "      <td>NaN</td>\n",
       "      <td>NaN</td>\n",
       "      <td>NaN</td>\n",
       "      <td>NaN</td>\n",
       "      <td>NaN</td>\n",
       "      <td>NaN</td>\n",
       "      <td>NaN</td>\n",
       "    </tr>\n",
       "    <tr>\n",
       "      <th>50021</th>\n",
       "      <td>mr_clampin</td>\n",
       "      <td>8/16/2016 9:39</td>\n",
       "      <td>RT @SuperGeekGirls: One of our stunning @super...</td>\n",
       "      <td>NaN</td>\n",
       "      <td>NaN</td>\n",
       "      <td>NaN</td>\n",
       "      <td>NaN</td>\n",
       "      <td>NaN</td>\n",
       "      <td>NaN</td>\n",
       "      <td>NaN</td>\n",
       "      <td>NaN</td>\n",
       "      <td>NaN</td>\n",
       "      <td>NaN</td>\n",
       "      <td>NaN</td>\n",
       "      <td>NaN</td>\n",
       "      <td>NaN</td>\n",
       "      <td>NaN</td>\n",
       "      <td>NaN</td>\n",
       "    </tr>\n",
       "  </tbody>\n",
       "</table>\n",
       "</div>"
      ],
      "text/plain": [
       "      twitter_screenname  date_tweet_sent  \\\n",
       "2805        peterkistner  7/20/2016 12:26   \n",
       "36987          puredavie  7/30/2016 15:13   \n",
       "49204      marianeuberg1  7/20/2016 12:18   \n",
       "49362          puredavie  7/30/2016 16:33   \n",
       "50021         mr_clampin   8/16/2016 9:39   \n",
       "\n",
       "                                              tweet_text  times_retweeted  \\\n",
       "2805   RT @SPIEGELONLINE: In Dänemark hat eine 49-Jäh...              NaN   \n",
       "36987  #IHatePokemonGoBecause my husband wants to cal...              NaN   \n",
       "49204  RT @SPIEGELONLINE: In Dänemark hat eine 49-Jäh...              NaN   \n",
       "49362  RT @DanaGeezus: #IHatePokemonGoBecause  now I ...              NaN   \n",
       "50021  RT @SuperGeekGirls: One of our stunning @super...              NaN   \n",
       "\n",
       "       times_favorited  Unnamed: 5  Unnamed: 6  Unnamed: 7  Unnamed: 8  \\\n",
       "2805               NaN         NaN         NaN         NaN         NaN   \n",
       "36987              NaN         NaN         NaN         NaN         NaN   \n",
       "49204              NaN         NaN         NaN         NaN         NaN   \n",
       "49362              NaN         NaN         NaN         NaN         NaN   \n",
       "50021              NaN         NaN         NaN         NaN         NaN   \n",
       "\n",
       "       Unnamed: 9  Unnamed: 10  Unnamed: 11  Unnamed: 12  Unnamed: 13  \\\n",
       "2805          NaN          NaN          NaN          NaN          NaN   \n",
       "36987         NaN          NaN          NaN          NaN          NaN   \n",
       "49204         NaN          NaN          NaN          NaN          NaN   \n",
       "49362         NaN          NaN          NaN          NaN          NaN   \n",
       "50021         NaN          NaN          NaN          NaN          NaN   \n",
       "\n",
       "       Unnamed: 14  Unnamed: 15  Unnamed: 16  Unnamed: 17  \n",
       "2805           NaN          NaN          NaN          NaN  \n",
       "36987          NaN          NaN          NaN          NaN  \n",
       "49204          NaN          NaN          NaN          NaN  \n",
       "49362          NaN          NaN          NaN          NaN  \n",
       "50021          NaN          NaN          NaN          NaN  "
      ]
     },
     "execution_count": 310,
     "metadata": {},
     "output_type": "execute_result"
    }
   ],
   "source": [
    "df[mask][:5]"
   ]
  },
  {
   "cell_type": "markdown",
   "metadata": {},
   "source": [
    "# Pokemon Go fans\n",
    "\n",
    "So let's take someone who has tweeted about Pokemon at random."
   ]
  },
  {
   "cell_type": "code",
   "execution_count": 352,
   "metadata": {
    "collapsed": true
   },
   "outputs": [],
   "source": [
    "\n",
    "subject = df[ df.twitter_screenname == 'traceyhappymom']\n",
    "stuff = subject.tweet_text.values\n",
    "stuff = stuff.reshape((-1,))"
   ]
  },
  {
   "cell_type": "code",
   "execution_count": 345,
   "metadata": {},
   "outputs": [
    {
     "name": "stdout",
     "output_type": "stream",
     "text": [
      "\n"
     ]
    }
   ],
   "source": [
    "set(hashtag_regex.findall(' '.join(stuff)))\n",
    "print"
   ]
  },
  {
   "cell_type": "code",
   "execution_count": 371,
   "metadata": {
    "collapsed": true
   },
   "outputs": [],
   "source": [
    "def indexer2tweet_txt(indexer):\n",
    "    return '\\n'.join(indexer.tweet_text.values.reshape((-1,)) )"
   ]
  },
  {
   "cell_type": "code",
   "execution_count": 482,
   "metadata": {},
   "outputs": [
    {
     "name": "stdout",
     "output_type": "stream",
     "text": [
      "RT @JohnFPLane: Just spoke to Putin. Fantastic, great guy. Knows a great deal when he sees it. Sold him the White House! #probabletrumpstwe…\n",
      "RT @DoompaAlioompa: #ProbableTrumpsTweets\r\n",
      "I'll be Putin on the Ritz if you don't text back\n",
      "RT @Born_To_DYE: #TrumpsFavoriteHeadline Putin admits: 'Trump is my hero.'\n",
      "RT @WhiteCollarCMDY: #ProbableTrumpsTweets\r\n",
      "Invites go out to Putin, Jong-un, Khomeini, Duterte and Mugabe--poker at my house, winner gets t…\n"
     ]
    }
   ],
   "source": [
    "trump_regex = re.compile('trump',re.IGNORECASE)\n",
    "putin_regex = re.compile('putin',re.IGNORECASE)\n",
    "hilary_regex = re.compile('hillary',re.IGNORECASE)\n",
    "sanders_regex = re.compile('sanders',re.IGNORECASE)\n",
    "cp = putin_regex\n",
    "mask = subject.tweet_text.str.contains(cp,na=False)\n",
    "print indexer2tweet_txt(subject[mask])"
   ]
  },
  {
   "cell_type": "code",
   "execution_count": 430,
   "metadata": {
    "collapsed": true
   },
   "outputs": [],
   "source": [
    "mask = df.tweet_text.str.contains('#ProbableTrumpsTweets', na=False)\n",
    "#print indexer2tweet_txt(df[mask])"
   ]
  },
  {
   "cell_type": "code",
   "execution_count": null,
   "metadata": {
    "collapsed": true
   },
   "outputs": [],
   "source": []
  },
  {
   "cell_type": "markdown",
   "metadata": {},
   "source": [
    "# Rough Analysis\n",
    "\n",
    "This is just screwing around to see what is in the file.\n",
    "\n",
    "### Todo\n",
    "\n",
    "I should really feed this through an **NLP** pipeline."
   ]
  },
  {
   "cell_type": "code",
   "execution_count": 311,
   "metadata": {
    "collapsed": true
   },
   "outputs": [],
   "source": [
    "AA = df.twitter_screenname.values\n",
    "BB = df.tweet_text.values"
   ]
  },
  {
   "cell_type": "code",
   "execution_count": 58,
   "metadata": {
    "collapsed": true
   },
   "outputs": [],
   "source": [
    "names = set( AA.reshape((-1,)))"
   ]
  },
  {
   "cell_type": "code",
   "execution_count": 63,
   "metadata": {
    "collapsed": true
   },
   "outputs": [],
   "source": [
    "txts =  list(BB.reshape((-1,)))"
   ]
  },
  {
   "cell_type": "code",
   "execution_count": 72,
   "metadata": {
    "collapsed": true
   },
   "outputs": [],
   "source": [
    "txts = [x.replace('\\n',' ') + '\\n' for x in txts if type(x) == str]"
   ]
  },
  {
   "cell_type": "markdown",
   "metadata": {},
   "source": [
    "so here there are a load of texts about Pokemon.\n",
    "\n",
    "- What does this prove? \n",
    "- Why didn't they clean the data?\n",
    "- Do those pesky Russians spies want to prove they are real people?"
   ]
  },
  {
   "cell_type": "code",
   "execution_count": 92,
   "metadata": {},
   "outputs": [
    {
     "data": {
      "text/plain": [
       "181"
      ]
     },
     "execution_count": 92,
     "metadata": {},
     "output_type": "execute_result"
    }
   ],
   "source": [
    "pokemon = [x for x in txts if 'pokemon' in x.lower()]\n",
    "len(pokemon)"
   ]
  },
  {
   "cell_type": "markdown",
   "metadata": {},
   "source": [
    "# Add day of the year column \n",
    "\n",
    "we want to plot frequencies of tweets"
   ]
  },
  {
   "cell_type": "code",
   "execution_count": 379,
   "metadata": {},
   "outputs": [
    {
     "data": {
      "text/plain": [
       "array(['7/15/2016 17:36', '5/28/2016 13:43', '10/16/2016 13:08',\n",
       "       '4/7/2016 12:08', '11/24/2016 13:52', '11/1/2016 12:13',\n",
       "       '6/18/2015 1:04', '1/10/2017 18:50', '11/20/2016 21:49',\n",
       "       '12/19/2016 23:00'], dtype=object)"
      ]
     },
     "execution_count": 379,
     "metadata": {},
     "output_type": "execute_result"
    }
   ],
   "source": [
    "df.date_tweet_sent[-10:].values"
   ]
  },
  {
   "cell_type": "code",
   "execution_count": 397,
   "metadata": {
    "collapsed": true
   },
   "outputs": [],
   "source": [
    "\n",
    "def date_to_nth_day(date, format='%m/%d/%Y'):\n",
    "    date = pd.to_datetime(date, format=format)\n",
    "    new_year_day = pd.Timestamp(year=date.year, month=1, day=1)\n",
    "    return (date - new_year_day).days + 1\n",
    "\n",
    "def doy(x):\n",
    "    if isinstance(x,str):\n",
    "        return date_to_nth_day(x.split()[0])\n",
    "    else:\n",
    "        #return a default fake value out of the normal range\n",
    "        return -1\n",
    "    \n",
    "dates = [doy(x) for x in  df.date_tweet_sent[:].values]"
   ]
  },
  {
   "cell_type": "markdown",
   "metadata": {},
   "source": [
    "add these as they will be useful for plotting later"
   ]
  },
  {
   "cell_type": "code",
   "execution_count": 440,
   "metadata": {},
   "outputs": [
    {
     "data": {
      "text/plain": [
       "0     82\n",
       "1    284\n",
       "2     53\n",
       "Name: doy, dtype: int64"
      ]
     },
     "execution_count": 440,
     "metadata": {},
     "output_type": "execute_result"
    }
   ],
   "source": [
    "df.loc[:,'doy'] = pd.Series(dates, index=df.index)"
   ]
  },
  {
   "cell_type": "markdown",
   "metadata": {},
   "source": [
    "# Analysis of frequencies\n",
    "\n",
    "This is just simple \"traffic\" analysis..\n",
    "\n"
   ]
  },
  {
   "cell_type": "code",
   "execution_count": 468,
   "metadata": {
    "collapsed": true
   },
   "outputs": [],
   "source": [
    "import matplotlib.pyplot as plt\n",
    "%matplotlib inline\n",
    "\n",
    "import collections\n",
    "date_data  = collections.Counter(dates)"
   ]
  },
  {
   "cell_type": "code",
   "execution_count": 470,
   "metadata": {},
   "outputs": [
    {
     "data": {
      "text/plain": [
       "[<matplotlib.lines.Line2D at 0x1240a7310>]"
      ]
     },
     "execution_count": 470,
     "metadata": {},
     "output_type": "execute_result"
    },
    {
     "data": {
      "image/png": "[encoded data removed]",
      "text/plain": [
       "<matplotlib.figure.Figure at 0x11ea5ec10>"
      ]
     },
     "metadata": {},
     "output_type": "display_data"
    }
   ],
   "source": [
    "XS,YS = zip(*date_data.items())\n",
    "plt.plot(XS,YS)"
   ]
  },
  {
   "cell_type": "code",
   "execution_count": 489,
   "metadata": {
    "collapsed": true
   },
   "outputs": [],
   "source": [
    "mask = df.tweet_text.str.contains(trump_regex, na=False) \n",
    "#careful returns a dictionnary\n",
    "date_data  = collections.Counter(df[mask].doy).items()"
   ]
  },
  {
   "cell_type": "code",
   "execution_count": 491,
   "metadata": {
    "collapsed": true
   },
   "outputs": [],
   "source": [
    "date_data.sort(key = lambda x:x[1])"
   ]
  },
  {
   "cell_type": "markdown",
   "metadata": {},
   "source": [
    "So let's look at the **top 10** days for traffic.\n",
    "\n",
    "There is aperiod of 4 days of intense activity 260-263.\n",
    "\n",
    "The election was held on November 8, 2016 = 313\n",
    "\n",
    "There were debates on the following days :\n",
    "\n",
    "- P1\tSeptember 26, 2016\t9 p.m. \n",
    "- VP\tOctober 4, 2016\t9 p.m. \n",
    "- P2\tOctober 9, 2016\t8 p.m. CDT\t\n",
    "- P3\tOctober 19, 2016\t6 p.m. PDT\t\n",
    "- P4\tOctober 25, 2016\t7 p.m. MDT\t\n",
    "\n",
    "\n",
    "SOURCE : https://en.wikipedia.org/wiki/United_States_presidential_election,_2016#Primary_election_debates\n"
   ]
  },
  {
   "cell_type": "code",
   "execution_count": 512,
   "metadata": {},
   "outputs": [
    {
     "name": "stdout",
     "output_type": "stream",
     "text": [
      " 519 2016-09-23 267\n",
      "545 2016-09-29 273\n",
      "713 2016-11-09 314\n",
      "826 2016-10-07 281\n",
      "944 2016-09-19 263\n",
      "956 2016-09-16 260\n",
      "987 2016-09-18 262\n",
      "1291 2016-10-06 280\n",
      "1435 2016-09-17 261\n",
      "1472 2016-11-08 313\n"
     ]
    }
   ],
   "source": [
    "for x,y in date_data[-10:]:\n",
    "    print y, str(pd.to_datetime(2016 * 1000 + x, format='%Y%j')).split()[0], x\n"
   ]
  },
  {
   "cell_type": "code",
   "execution_count": 486,
   "metadata": {},
   "outputs": [
    {
     "data": {
      "image/png": "[encoded data removed]",
      "text/plain": [
       "<matplotlib.figure.Figure at 0x12a5560d0>"
      ]
     },
     "metadata": {},
     "output_type": "display_data"
    }
   ],
   "source": [
    "styles = ['r','b','g']\n",
    "obama_regex = re.compile('obama',re.IGNORECASE)\n",
    "for cp in [obama_regex, hilary_regex, trump_regex]:\n",
    "    mask = df.tweet_text.str.contains(cp, na=False)\n",
    "    date_data  = collections.Counter(df[mask].doy)\n",
    "    XS,YS = zip(*date_data.items())\n",
    "    plt.plot(XS,YS, styles.pop())"
   ]
  },
  {
   "cell_type": "markdown",
   "metadata": {},
   "source": [
    "## Extracting Tweets for a day\n",
    "\n",
    "And here is how to extract what was said about Trump or whoever on a \n",
    "particular day of the year = doy"
   ]
  },
  {
   "cell_type": "code",
   "execution_count": 595,
   "metadata": {},
   "outputs": [
    {
     "name": "stdout",
     "output_type": "stream",
     "text": [
      "RT @Darren32895836: After Hillary Clinton Caught 4attempting 2take advantage of Americans hardships &amp;tears changes Strat #PrayForFlorida ht…\n",
      "RT @gerfingerpoken: Did IRS Leak Trump Returns 2 Help Hillary? https://t.co/EWkqWLPAQN American Thinker https://t.co/L7h6rlr1le  https://t.…\n",
      "RT @sweetatertot2: DNC leaked emails show Hillary Camp's plans to meet with Megyn Kelly Team to discuss \"future hits\" on Trump? Sick! https…\n",
      "RT @MathewSHarrison: .@HillaryClinton's top aide &amp; #MuslimBrotherhood operative Huma Abedin hates Jews- didn't see that coming..\n",
      "https://t.…\n",
      "Foke Prankster reporter horrifies New Yorkers by announcing Hillary Clinton has ZIKA https://t.co/vlLroBVwCQ #Foke\n",
      "I can't stop 😂😂\n",
      "\n",
      "Just watch this \"high energy\" Hillary's rally! \n",
      "\n",
      "Explain me how can the polls be favorable to her?… https://t.co/bUpNaTKGgQ\n",
      "RT @Houseman75: I'm a Coal Miner from Indiana. I don't need New Doubts about Hillary. I already have plenty. #TrumpPence16\n",
      "RT @phillyrich1: TIM KAINE SHOCK VIDEO 6: SEE TIM KAINE FLOUNDER WHEN ASKED ABOUT ENDORSING HILLARY (56 minute mark)  https://t.co/uvrcCCeh…\n",
      "RT @ForAmerica: Hillary Clinton and Tim Kaine are living in a make believe world, America. https://t.co/yhsKs102Hk\n",
      "RT @V_of_Europe: FACEBOOK Caught Covering For Hillary Clinton FBI Scandal https://t.co/HFAh85wbWq\n",
      "RT @bfraser747: 💥💥 NATIONAL SECURITY \n",
      "\n",
      "In my opinion #HillaryClinton herself is perhaps the biggest threat to National Security💀💀💀… \n",
      "RT @randyshort: EVOLVE LET'S ELECT HILLARY CLINTON SO MEN CAN USE THE LITTLE GIRLS' ROOM AND EVERYONE CAN BE WHATEVER AND MALE AND… \n",
      "RT @GopAaron: Hillary put our national security at risk multiple times as Secretary of State! Yet she criticizes Trump for losing… \n",
      "RT @BoyceCollege: #NeverTrump and #NeverHillary? 3 reasons why you should still vote — @samueld_james #Towers https://t.co/HSJrS674GI\n",
      "RT @KLSouth: WOW... LISTEN to the full list of evidence destroyed by #HillaryClinton. IT. IS. SHOCKING. #VoteTrump via @\n"
     ]
    }
   ],
   "source": [
    "print '\\n'.join( df[( df.doy == 280) & (df.tweet_text.str.contains(hilary_regex)) ].tweet_text.values)[:2000]"
   ]
  },
  {
   "cell_type": "markdown",
   "metadata": {},
   "source": [
    "## Who tweeted the most over the period 260-264"
   ]
  },
  {
   "cell_type": "code",
   "execution_count": 519,
   "metadata": {},
   "outputs": [],
   "source": [
    "mask =  (df.doy > 259) & (df.doy <264)\n",
    "chunk = df[mask]"
   ]
  },
  {
   "cell_type": "code",
   "execution_count": 526,
   "metadata": {},
   "outputs": [],
   "source": [
    "tweet_freqs = collections.Counter(chunk.twitter_screenname.values).items()\n",
    "tweet_freqs.sort( key=lambda x:-x[1])"
   ]
  },
  {
   "cell_type": "code",
   "execution_count": 531,
   "metadata": {},
   "outputs": [
    {
     "data": {
      "text/plain": [
       "[('ameliebaldwin', 2176),\n",
       " ('hyddrox', 1464),\n",
       " ('rh0lbr00k', 1133),\n",
       " ('kateritterrrr', 734),\n",
       " ('finley1589', 512),\n",
       " ('dorothiebell', 500),\n",
       " ('cassishere', 298),\n",
       " ('jacquelinisbest', 267),\n",
       " ('wadeharriot', 249),\n",
       " ('karenparker93', 246),\n",
       " ('hollydler', 199),\n",
       " ('cynthiamhunter', 199),\n",
       " ('prettylaraplace', 189),\n",
       " ('_nickluna_', 182),\n",
       " ('ten_gop', 139),\n",
       " ('patriotblake', 111),\n",
       " ('garrettsimpson_', 85),\n",
       " ('cookncooks', 73),\n",
       " ('pamela_moore13', 60),\n",
       " ('usa_gunslinger', 55)]"
      ]
     },
     "execution_count": 531,
     "metadata": {},
     "output_type": "execute_result"
    }
   ],
   "source": [
    "tweet_freqs[:20]"
   ]
  },
  {
   "cell_type": "markdown",
   "metadata": {},
   "source": [
    "Does it look like a Zipf ?\n",
    "\n",
    "https://en.wikipedia.org/wiki/Zipf%27s_law"
   ]
  },
  {
   "cell_type": "code",
   "execution_count": 546,
   "metadata": {},
   "outputs": [
    {
     "data": {
      "text/plain": [
       "[<matplotlib.lines.Line2D at 0x13c79e4d0>]"
      ]
     },
     "execution_count": 546,
     "metadata": {},
     "output_type": "execute_result"
    },
    {
     "data": {
      "image/png": "[encoded data removed]",
      "text/plain": [
       "<matplotlib.figure.Figure at 0x1492a2810>"
      ]
     },
     "metadata": {},
     "output_type": "display_data"
    }
   ],
   "source": [
    "import numpy as np\n",
    "names,YS = zip(*tweet_freqs[:20])\n",
    "plt.plot(YS)\n",
    "#comparison \n",
    "TS = np.linspace(0,20,20)\n",
    "plt.plot(TS,2176/(TS + 1) )"
   ]
  },
  {
   "cell_type": "code",
   "execution_count": 580,
   "metadata": {},
   "outputs": [],
   "source": [
    "number1 = df[df.twitter_screenname == 'ameliebaldwin']\n",
    "number2 = df[df.twitter_screenname == 'hyddrox']"
   ]
  },
  {
   "cell_type": "code",
   "execution_count": 581,
   "metadata": {},
   "outputs": [
    {
     "data": {
      "text/plain": [
       "[<matplotlib.lines.Line2D at 0x1492aae10>]"
      ]
     },
     "execution_count": 581,
     "metadata": {},
     "output_type": "execute_result"
    },
    {
     "data": {
      "image/png": "[encoded data removed]",
      "text/plain": [
       "<matplotlib.figure.Figure at 0x149e986d0>"
      ]
     },
     "metadata": {},
     "output_type": "display_data"
    }
   ],
   "source": [
    "XS,YS = zip(*collections.Counter(number1.doy.values).items())\n",
    "plt.plot(XS,YS,'r')\n",
    "\n",
    "XS,YS = zip(*collections.Counter(number2.doy.values).items())\n",
    "plt.plot(XS,YS,'b')"
   ]
  },
  {
   "cell_type": "code",
   "execution_count": 594,
   "metadata": {},
   "outputs": [
    {
     "name": "stdout",
     "output_type": "stream",
     "text": [
      "RT @K1erry: The Marco Rubio knockdown of Elizabeth Warren no liberal media outlet will cover https://t.co/Rh391fEXe3\n",
      "RT @TrumpSuperPAC: Obama's a Muslim &amp; this video from @FoxNews proves it! Even @CNN admits Obama's training protesters/jihadists! #MAGA htt…\n",
      "RT @schotziejlk: .@greta Who is your #SuperBowl favorite?\n",
      "RT @jefe_viejo: Dem Civil War: Pelosi Fires Back at Warren | LifeZette https://t.co/5GsJVPRnXH\n",
      "RT @wretchardthecat: People believe from instinct.  The Roman gods became ridiculous when the Roman emperors did.  PC is the equivalent of…\n",
      "RT @jimmylemons: entire media doing the hyping https://t.co/eOiFChIs7Z\n",
      "RT @tlamb775: https://t.co/HLAdjCm5vO\n",
      "RT @BillZucker: DONT YOU JUST HATE IT when you go out and buy something and that night you find a COUPON in your Local Paper! PLS RT https:…\n",
      "RT @luchadora41: A Week of Terror and Diversity in Europe https://t.co/5PGVEVD9w4 #WakeUpAmerica\n",
      "RT @Laurie89764267: @Craftmastah @bigbare44, I was at the rally on Melbourne, Fl and it was a beautiful moment seeing everybody bowing thei…\n",
      "RT @Kamani1147: Takei, please beam yourself up to Uranus. https://t.co/5NU2H0Aauf\n",
      "RT @Don_Vito_08: AWFUL: Top Democrats Refuse To Stand, Clap For Navy SEAL Widow Honored By Trump #Dems = #UnAmerican #DrainTheSwamp \r\n",
      "https:…\n",
      "RT @AllenWestRepub: I posted a new photo to Facebook https://t.co/sns9fvUZpC\n",
      "RT @BluegrassPundit: I Had Dinner With the Afghan Ambassador. What He Said About the Differences Between Trump, Obama Is Stunning https://t…\n",
      "RT @AntonRubaclini: I live in constant fear that Trump will deport my latina mother-in-law who lives at 1837 3rd st, LA 90023 blue house. s…\n",
      "RT @Daggy1: She's a liar and we all know it. Photo contradicts Pelosi's statement about not meeting Kislyak https://t.co/mSfP73hman\n",
      "RT @sippindoc: What are people thinking going to Dubai for vacation? think about it. https://t.co/kHKQUUrVnD\n",
      "RT @Usainflames: Tennessee Introduces Bill Allowing People to Hit Protesters Blocking Roads, Drivers Immune to Civil Li\n"
     ]
    }
   ],
   "source": [
    "print '\\n'.join( number2[number2.doy < 100 ].tweet_text.values)[:2000]"
   ]
  },
  {
   "cell_type": "code",
   "execution_count": 560,
   "metadata": {},
   "outputs": [],
   "source": [
    "fp = file('number1.txt','w')\n",
    "with fp as dump:\n",
    "    dump.write('\\n'.join( number1[ (number1.doy > 259) & (number1.doy < 265) ].tweet_text.values) )"
   ]
  },
  {
   "cell_type": "markdown",
   "metadata": {},
   "source": [
    "## Retweets\n",
    "\n",
    "\n",
    "So most if not all of these are retweets \n",
    "\n",
    "so what ?"
   ]
  },
  {
   "cell_type": "code",
   "execution_count": 584,
   "metadata": {},
   "outputs": [
    {
     "name": "stderr",
     "output_type": "stream",
     "text": [
      "/Users/macbuse/anaconda2/lib/python2.7/site-packages/ipykernel_launcher.py:3: FutureWarning: currently extract(expand=None) means expand=False (return Index/Series/DataFrame) but in a future version of pandas this will be changed to expand=True (return DataFrame)\n",
      "  This is separate from the ipykernel package so we can avoid doing imports until\n"
     ]
    }
   ],
   "source": [
    "rt_regex = re.compile('RT @([\\w|_]+)')\n",
    "tweet_bags = [ kk[ (kk.doy > 259) & (kk.doy < 265) ].tweet_text for kk in [number1,number2] ] \n",
    "orig_tweeters = [ x.str.extract(rt_regex) for x in tweet_bags]"
   ]
  },
  {
   "cell_type": "code",
   "execution_count": 585,
   "metadata": {},
   "outputs": [],
   "source": [
    "A = set(orig_tweeters[0])\n",
    "B = set(orig_tweeters[1])"
   ]
  },
  {
   "cell_type": "code",
   "execution_count": 588,
   "metadata": {},
   "outputs": [],
   "source": [
    "C = A.intersection(B)"
   ]
  },
  {
   "cell_type": "code",
   "execution_count": 593,
   "metadata": {},
   "outputs": [
    {
     "data": {
      "text/plain": [
       "{'2ALAW',\n",
       " 'AG_Conservative',\n",
       " 'AIIAmericanGirI',\n",
       " 'AP',\n",
       " 'APatriotDude',\n",
       " 'AceofSpadesHQ',\n",
       " 'Al_Gorelioni',\n",
       " 'AllenWest',\n",
       " 'Always_Trump',\n",
       " 'AmyMek',\n",
       " 'AnnCoulter',\n",
       " 'AnneBayefsky',\n",
       " 'AnthonyVVeiner',\n",
       " 'BeckyWuThere',\n",
       " 'BretBaier',\n",
       " 'CNN',\n",
       " 'CarmineZozzora',\n",
       " 'Cernovich',\n",
       " 'ChrisCoon4',\n",
       " 'ChristiChat',\n",
       " 'ChristieC733',\n",
       " 'ChuckNellis',\n",
       " 'Conservative_VW',\n",
       " 'ConstanceQueen8',\n",
       " 'CounterJihadUS',\n",
       " 'DBloom451',\n",
       " 'DRUDGE_REPORT',\n",
       " 'DailyCaller',\n",
       " 'DanRiehl',\n",
       " 'DanScavino',\n",
       " 'Darren32895836',\n",
       " 'Davewellwisher',\n",
       " 'Dbargen',\n",
       " 'Debramax',\n",
       " 'DineshDSouza',\n",
       " 'DonaldT4Prez',\n",
       " 'DrMartyFox',\n",
       " 'Eyes_of_justice',\n",
       " 'FemalesForTrump',\n",
       " 'FiveRights',\n",
       " 'FoxNews',\n",
       " 'Gumball55668882',\n",
       " 'Harlan',\n",
       " 'Hillarizer',\n",
       " 'Hutch_USA',\n",
       " 'INTJutsu',\n",
       " 'I_AmAmerica',\n",
       " 'Ian56789',\n",
       " 'Italians4Trump',\n",
       " 'JOMainEvent',\n",
       " 'JackPosobiec',\n",
       " 'JasonMillerinDC',\n",
       " 'JesseKellyDC',\n",
       " 'JohnFromCranber',\n",
       " 'JohnKStahlUSA',\n",
       " 'Johnatsrs1949',\n",
       " 'K1erry',\n",
       " 'KatiePavlich',\n",
       " 'KellyannePolls',\n",
       " 'KevinJacksonTBS',\n",
       " 'KlayVolk',\n",
       " 'LadyLiberTea',\n",
       " 'Lagartija_Nix',\n",
       " 'LanceSilver1',\n",
       " 'LeahR77',\n",
       " 'LeahRBoss',\n",
       " 'LibertySeeds',\n",
       " 'LindaSuhler',\n",
       " 'LogicalCampaign',\n",
       " 'LouDobbs',\n",
       " 'Maddog5827',\n",
       " 'MattMackowiak',\n",
       " 'Miami4Trump',\n",
       " 'MikeBates',\n",
       " 'MrEdTrain',\n",
       " 'NeilTurner_',\n",
       " 'NetworksManager',\n",
       " 'NolteNC',\n",
       " 'Pamela_Moore13',\n",
       " 'PatDollard',\n",
       " 'PattiSM74',\n",
       " 'PpollingNumbers',\n",
       " 'PrisonPlanet',\n",
       " 'ROCKONDUDE2',\n",
       " 'RealAlexJones',\n",
       " 'RealDJTrumpTeam',\n",
       " 'RealJBradly',\n",
       " 'RealJamesWoods',\n",
       " 'RichardGrenell',\n",
       " 'RichardTBurnett',\n",
       " 'RickRWells',\n",
       " 'Ricky_Vaughn99',\n",
       " 'Rockprincess818',\n",
       " 'RogerJStoneJr',\n",
       " 'SandraTXAS',\n",
       " 'SethAMandel',\n",
       " 'SheriffClarke',\n",
       " 'SilERabbit',\n",
       " 'SmallgGay',\n",
       " 'SopanDeb',\n",
       " 'StanleyECook',\n",
       " 'Stevenwhirsch99',\n",
       " 'Stonewall_77',\n",
       " 'StopStopHillary',\n",
       " 'SurvivorMed',\n",
       " 'TEN_GOP',\n",
       " 'TRUMPMOVEMENTUS',\n",
       " 'TallahForTrump',\n",
       " 'TeamMcMullin',\n",
       " 'TeamTrump',\n",
       " 'ThankYouDonald',\n",
       " 'ThePatriot143',\n",
       " 'TheTrumpLady',\n",
       " 'The_Trump_Train',\n",
       " 'Thomas1774Paine',\n",
       " 'TimRunsHisMouth',\n",
       " 'TrishIntel',\n",
       " 'Trump4Hope',\n",
       " 'TrumpPenceUSA1',\n",
       " 'TrumpSuperPAC',\n",
       " 'TrumpVsHilary',\n",
       " 'Trumpazona',\n",
       " 'Trumpster4Trump',\n",
       " 'Trumptbird',\n",
       " 'TruthFeedNews',\n",
       " 'USAforTrump2016',\n",
       " 'UnPoliticalPrty',\n",
       " 'VivaLaAmes',\n",
       " 'WalshFreedom',\n",
       " 'WayneDupreeShow',\n",
       " 'WeNeedTrump',\n",
       " 'WhoWolfe',\n",
       " 'Wisakijak',\n",
       " 'YoungDems4Trump',\n",
       " '_Makada_',\n",
       " 'aaronsrgenus',\n",
       " 'agreatercountry',\n",
       " 'almostjingo',\n",
       " 'amandacarpenter',\n",
       " 'amrightnow',\n",
       " 'asamjulian',\n",
       " 'avanconia',\n",
       " 'benshapiro',\n",
       " 'bfraser747',\n",
       " 'bob_owens',\n",
       " 'bocavista2016',\n",
       " 'col_nj',\n",
       " 'dawngpsalm63',\n",
       " 'dmon4ever',\n",
       " 'docmurdock',\n",
       " 'eddiern',\n",
       " 'eeynouf',\n",
       " 'ernieHHI',\n",
       " 'faagifts',\n",
       " 'floridaguy267',\n",
       " 'foxandfriends',\n",
       " 'gelicmonkey',\n",
       " 'gene70',\n",
       " 'gerfingerpoken',\n",
       " 'halsteadg048',\n",
       " 'hectormorenco',\n",
       " 'hrkbenowen',\n",
       " 'irritatedwoman',\n",
       " 'ish10040',\n",
       " 'jaynordlinger',\n",
       " 'jimasher',\n",
       " 'jimgeraghty',\n",
       " 'jko417',\n",
       " 'johncardillo',\n",
       " 'jtLOL',\n",
       " 'justanavywife',\n",
       " 'kayleighmcenany',\n",
       " 'latinaafortrump',\n",
       " 'magnifier661',\n",
       " 'mayday2744',\n",
       " 'mike4193496',\n",
       " 'mike_pence',\n",
       " 'mitchellvii',\n",
       " 'mmmoonie',\n",
       " 'nationdivided',\n",
       " 'nia4_trump',\n",
       " 'nickie_greer',\n",
       " 'nvrggivup',\n",
       " 'obamascrewingus',\n",
       " 'ofccadjust',\n",
       " 'peaceandjoy101',\n",
       " 'peddoc63',\n",
       " 'petefrt',\n",
       " 'phil200269',\n",
       " 'pink_lady56',\n",
       " 'preciousliberty',\n",
       " 'realDonaldTrump',\n",
       " 'realkingrobbo',\n",
       " 'risetoflyy',\n",
       " 'robyns323',\n",
       " 'saneplanet',\n",
       " 'santiagos58',\n",
       " 'seanmdav',\n",
       " 'slone',\n",
       " 'steph93065',\n",
       " 'thebryanhorn',\n",
       " 'theglobaluniter',\n",
       " 'thehill',\n",
       " 'therealcornett',\n",
       " 'tjrocks18',\n",
       " 'tonyschwartz',\n",
       " 'true_pundit',\n",
       " 'trump2021',\n",
       " 'trumpamericann',\n",
       " 'umpire43',\n",
       " 'usacsmret',\n",
       " 'wikileaks',\n",
       " 'youlivethrice',\n",
       " 'zip90210'}"
      ]
     },
     "execution_count": 593,
     "metadata": {},
     "output_type": "execute_result"
    }
   ],
   "source": [
    "C"
   ]
  },
  {
   "cell_type": "markdown",
   "metadata": {},
   "source": [
    "# Hashtag analysis\n",
    "\n",
    "I'm not going to do anything complicated but here we go"
   ]
  },
  {
   "cell_type": "code",
   "execution_count": 111,
   "metadata": {
    "collapsed": true
   },
   "outputs": [],
   "source": [
    "data = file('amalgam_txts.txt','r').read()"
   ]
  },
  {
   "cell_type": "code",
   "execution_count": 322,
   "metadata": {
    "collapsed": true
   },
   "outputs": [],
   "source": [
    "tags = hashtag_regex.findall(data)\n",
    "tags = list(set(tags))\n",
    "tags.sort()"
   ]
  },
  {
   "cell_type": "code",
   "execution_count": 247,
   "metadata": {
    "collapsed": true
   },
   "outputs": [],
   "source": [
    "clinton = [x for x in tags if 'clinton' in x.lower()]\n",
    "clinton = list(set(clinton))\n",
    "clinton.sort()"
   ]
  },
  {
   "cell_type": "code",
   "execution_count": 249,
   "metadata": {
    "collapsed": true
   },
   "outputs": [],
   "source": [
    "#associated_words(clinton,['clintons','hilary'])"
   ]
  },
  {
   "cell_type": "code",
   "execution_count": 158,
   "metadata": {
    "collapsed": true
   },
   "outputs": [],
   "source": [
    "bill = [x for x in clinton if 'bill' in x.lower()]\n",
    "hil = [x for x in clinton if 'hillary' in x.lower() ]"
   ]
  },
  {
   "cell_type": "markdown",
   "metadata": {},
   "source": [
    "we have to write a filter to clean things up \n",
    "using a list of **stop words**"
   ]
  },
  {
   "cell_type": "code",
   "execution_count": 234,
   "metadata": {
    "collapsed": true
   },
   "outputs": [],
   "source": [
    "def associated_words(tags, omit=['']):\n",
    "    stop_words = omit + ['bill','hillary','clinton','2016','16','_'] \n",
    "    old = ' '.join(tags)\n",
    "    stuff = old.lower()\n",
    "    for x in stop_words:\n",
    "        stuff = stuff.replace(x,'')\n",
    "    return set(stuff.split())"
   ]
  },
  {
   "cell_type": "code",
   "execution_count": 233,
   "metadata": {},
   "outputs": [
    {
     "data": {
      "text/plain": [
       "{'arrest',\n",
       " 'corrupt',\n",
       " 'criminal',\n",
       " 'crooked',\n",
       " 'forpresident',\n",
       " 'indict',\n",
       " 'rotten',\n",
       " 'scripted',\n",
       " 'searchterms',\n",
       " 'theliesof'}"
      ]
     },
     "execution_count": 233,
     "metadata": {},
     "output_type": "execute_result"
    }
   ],
   "source": [
    "associated_words(hil)"
   ]
  },
  {
   "cell_type": "code",
   "execution_count": 228,
   "metadata": {
    "collapsed": true
   },
   "outputs": [],
   "source": [
    "obama = [x for x in tags if 'obama' in x.lower()]"
   ]
  },
  {
   "cell_type": "code",
   "execution_count": 494,
   "metadata": {},
   "outputs": [
    {
     "name": "stdout",
     "output_type": "stream",
     "text": [
      "\n"
     ]
    }
   ],
   "source": [
    "associated_words(obama, omit=['obama','barack'])\n",
    "print"
   ]
  },
  {
   "cell_type": "code",
   "execution_count": 241,
   "metadata": {},
   "outputs": [
    {
     "data": {
      "text/plain": [
       "{'1st',\n",
       " '4',\n",
       " '4alls',\n",
       " 'actfor',\n",
       " 'african',\n",
       " 'africanhomelandstates',\n",
       " 'africans',\n",
       " 'allrejects',\n",
       " 'anti',\n",
       " 'antirhetoric',\n",
       " 'antitrumpis',\n",
       " 'bendover',\n",
       " 'black',\n",
       " 'blackpbs',\n",
       " 'blacks',\n",
       " 'bornagain',\n",
       " 'callbank',\n",
       " 'cgi',\n",
       " 'contractwith',\n",
       " 'dad',\n",
       " 'death2',\n",
       " 'deathto',\n",
       " 'decides',\n",
       " 'democratsdestructionof',\n",
       " 'deservesbetter',\n",
       " 'disgraceto',\n",
       " 'divided',\n",
       " 'eagle',\n",
       " 'eagleday',\n",
       " 'energyplan',\n",
       " 'f',\n",
       " 'failedslogans',\n",
       " 'fake',\n",
       " 'falls',\n",
       " 'feminine4trump',\n",
       " 'fi',\n",
       " 'fir',\n",
       " 'firs',\n",
       " 'first',\n",
       " 'flag',\n",
       " 'for',\n",
       " 'fuckingsinrealtime',\n",
       " 'fundamentallychanged',\n",
       " 'getitright',\n",
       " 'godbless',\n",
       " 'gods',\n",
       " 'gophatess',\n",
       " 'gopunfit2leadorgoverns',\n",
       " 'greats',\n",
       " 'grindingdown',\n",
       " 'guns',\n",
       " 'gunsin',\n",
       " 'hates',\n",
       " 'hatess',\n",
       " 'heartassociation',\n",
       " 'hire',\n",
       " 'historyisblack',\n",
       " 'honest',\n",
       " 'horrorstory',\n",
       " 'hostage',\n",
       " 'howtosurvivetrumps',\n",
       " 'idol',\n",
       " 'ilove',\n",
       " 'include',\n",
       " 'inspiring',\n",
       " 'isback',\n",
       " 'isdoomed',\n",
       " 'ismnotglobalism',\n",
       " 'keepbeautiful',\n",
       " 'keepsafeagain',\n",
       " 'lagalaxyvs',\n",
       " 'lefthates',\n",
       " 'letsmakegreat',\n",
       " 'letsmakegreatagain',\n",
       " 'libertyhour',\n",
       " 'made',\n",
       " 'make',\n",
       " 'makeabook',\n",
       " 'makedate',\n",
       " 'makefirst',\n",
       " 'makeg',\n",
       " 'makegr',\n",
       " 'makegre',\n",
       " 'makegreaagain',\n",
       " 'makegreat',\n",
       " 'makegreata',\n",
       " 'makegreatagain',\n",
       " 'makegreatgreatagain',\n",
       " 'makegreenagain',\n",
       " 'makegropeagain',\n",
       " 'makehealthyagain',\n",
       " 'makejimcrowagain',\n",
       " 'makeoneagain',\n",
       " 'makeproudagain',\n",
       " 'makerespectedagain',\n",
       " 'makerichagain',\n",
       " 'makesafeagain',\n",
       " 'makesickagain',\n",
       " 'makestrongagain',\n",
       " 'makeworkagain',\n",
       " 'makinggreatagain',\n",
       " 'masterspbs',\n",
       " 'matters',\n",
       " 'militia',\n",
       " 'miss',\n",
       " 'mr',\n",
       " 'muslims',\n",
       " 'native',\n",
       " 'ninjawarrior',\n",
       " 'norefugeesin',\n",
       " 'obamas',\n",
       " 'ojmadein',\n",
       " 'one',\n",
       " 'patriot',\n",
       " 'people',\n",
       " 'phobia',\n",
       " 'pray4',\n",
       " 'prayfor',\n",
       " 'progressivehateof',\n",
       " 'proud',\n",
       " 'proudtobe',\n",
       " 'rapeseverydays',\n",
       " 'reclaim',\n",
       " 'recyclesday',\n",
       " 'replacethe1partyryanatraitor2weneedourtrumpnow',\n",
       " 'restore',\n",
       " 'rip',\n",
       " 'riseup',\n",
       " 's',\n",
       " 'save',\n",
       " 'saveow',\n",
       " 'savetheworker',\n",
       " 'sfirst',\n",
       " 'shehates',\n",
       " 'signsyouare',\n",
       " 'slivesmatter',\n",
       " 'smerkel',\n",
       " 'sniper',\n",
       " 'spectator',\n",
       " 'spirit',\n",
       " 'struefeelingsabout',\n",
       " 'stupids',\n",
       " 'takeback',\n",
       " 'tellitsgreat',\n",
       " 'terrorist',\n",
       " 'thisisslastchance',\n",
       " 'transformin5words',\n",
       " 'trump',\n",
       " 'trumps',\n",
       " 'uaall',\n",
       " 'un',\n",
       " 'unafy',\n",
       " 'underattack',\n",
       " 'united',\n",
       " 'unitedsfortrump',\n",
       " 'unitedstatesof',\n",
       " 'unitefor',\n",
       " 'ursurystatesof',\n",
       " 'values',\n",
       " 'votetrumpsave',\n",
       " 'wake',\n",
       " 'wakeaup',\n",
       " 'wakeup',\n",
       " 'wasnevergreat',\n",
       " 'wetooare',\n",
       " 'wins',\n",
       " 'won',\n",
       " 'wrongfor',\n",
       " 'wtfin5words',\n",
       " 'yourvote'}"
      ]
     },
     "execution_count": 241,
     "metadata": {},
     "output_type": "execute_result"
    }
   ],
   "source": [
    "america = [x for x in tags if 'america' in x.lower()]\n",
    "associated_words(america, omit=['american','america'])"
   ]
  },
  {
   "cell_type": "code",
   "execution_count": null,
   "metadata": {
    "collapsed": true
   },
   "outputs": [],
   "source": []
  },
  {
   "cell_type": "code",
   "execution_count": null,
   "metadata": {
    "collapsed": true
   },
   "outputs": [],
   "source": []
  }
 ],
 "metadata": {
  "kernelspec": {
   "display_name": "Python 2",
   "language": "python",
   "name": "python2"
  },
  "language_info": {
   "codemirror_mode": {
    "name": "ipython",
    "version": 2
   },
   "file_extension": ".py",
   "mimetype": "text/x-python",
   "name": "python",
   "nbconvert_exporter": "python",
   "pygments_lexer": "ipython2",
   "version": "2.7.13"
  }
 },
 "nbformat": 4,
 "nbformat_minor": 2
}
